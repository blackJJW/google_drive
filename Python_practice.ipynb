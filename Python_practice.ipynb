{
  "nbformat": 4,
  "nbformat_minor": 0,
  "metadata": {
    "colab": {
      "name": "Python_practice.ipynb",
      "provenance": [],
      "toc_visible": true,
      "authorship_tag": "ABX9TyPe4laYxUnSAO+R0GCnsZhH",
      "include_colab_link": true
    },
    "kernelspec": {
      "name": "python3",
      "display_name": "Python 3"
    },
    "language_info": {
      "name": "python"
    }
  },
  "cells": [
    {
      "cell_type": "markdown",
      "metadata": {
        "id": "view-in-github",
        "colab_type": "text"
      },
      "source": [
        "<a href=\"https://colab.research.google.com/github/blackJJW/google_drive/blob/main/Python_practice.ipynb\" target=\"_parent\"><img src=\"https://colab.research.google.com/assets/colab-badge.svg\" alt=\"Open In Colab\"/></a>"
      ]
    },
    {
      "cell_type": "markdown",
      "source": [
        "# **Numpy**"
      ],
      "metadata": {
        "id": "Rk3uyAyZAf82"
      }
    },
    {
      "cell_type": "markdown",
      "source": [
        "## 01 배열(Array) 구조 이해\n",
        "- 하나의 자료형, 원소를 순서에 맞춰 나열하는 자료구조\n",
        "- Python -> 리스트(list) 제공\n",
        "- 일반적 배열과 리스트의 차이 -> 리스트는 다양한 자료형인 클래스의 객체를 원소로 받음\n",
        "- 다차원 배열은 배열의 기본 특징에 따라 모든 원소가 하나의 자료형\n"
      ],
      "metadata": {
        "id": "A1MRl0KaAzoX"
      }
    },
    {
      "cell_type": "markdown",
      "source": [
        "### 1.1 파이썬 리스트 구조 이해\n",
        "- 리스트의 하나의 자료형은 Python에서 제공하는 최상위 클래스인 object\n",
        "- 순차적으로 원소를 관리하는 것이 중요\n",
        "- 원소를 저장하는 순서 -> 인덱스(Index) : 내부의 원소를 검색할 때 인덱스 정보 이용\n",
        "\n"
      ],
      "metadata": {
        "id": "BcjT4ByuB5ar"
      }
    },
    {
      "cell_type": "markdown",
      "source": [
        "\n",
        "\n",
        "> 파이썬 리스트의 구조\n",
        "- Python에서 리스트를 만들면 저장되는 원소는 실제 값이 아닌 객체 레퍼런스\n",
        "- 이 객체들은 순서를 지정하는 인덱스에 매칭되어 관리\n",
        "\n"
      ],
      "metadata": {
        "id": "u1cTCYrCC6uU"
      }
    },
    {
      "cell_type": "markdown",
      "source": [
        "\n",
        "\n",
        "> 리스트를 생성해서 각 원소에 접근\n",
        "- 인덱스를 사용해서 검색하면 객체의 레퍼런스를 사용해서 객체 정보를 반환\n",
        "\n"
      ],
      "metadata": {
        "id": "6X-cOiusDb1y"
      }
    },
    {
      "cell_type": "code",
      "source": [
        "# example - 1\n",
        "l = [[1, 2, 3], [4, 5, 6]]"
      ],
      "metadata": {
        "id": "CE9jg7R2Dref"
      },
      "execution_count": null,
      "outputs": []
    },
    {
      "cell_type": "code",
      "source": [
        "type(l)"
      ],
      "metadata": {
        "colab": {
          "base_uri": "https://localhost:8080/"
        },
        "id": "IlRg2lcnD6Uq",
        "outputId": "eca2980d-c02c-4d5a-dd4c-156963d3cef0"
      },
      "execution_count": null,
      "outputs": [
        {
          "output_type": "execute_result",
          "data": {
            "text/plain": [
              "list"
            ]
          },
          "metadata": {},
          "execution_count": 2
        }
      ]
    },
    {
      "cell_type": "code",
      "source": [
        "l[0]"
      ],
      "metadata": {
        "colab": {
          "base_uri": "https://localhost:8080/"
        },
        "id": "KDuv_WHuECxz",
        "outputId": "dcd49b7d-d86e-4d2c-8178-c95a5ff0d73d"
      },
      "execution_count": null,
      "outputs": [
        {
          "output_type": "execute_result",
          "data": {
            "text/plain": [
              "[1, 2, 3]"
            ]
          },
          "metadata": {},
          "execution_count": 3
        }
      ]
    },
    {
      "cell_type": "code",
      "source": [
        "l[1]"
      ],
      "metadata": {
        "colab": {
          "base_uri": "https://localhost:8080/"
        },
        "id": "43tu7gpVEFbg",
        "outputId": "589ceb88-bc60-4a8e-d384-a688bb6184a4"
      },
      "execution_count": null,
      "outputs": [
        {
          "output_type": "execute_result",
          "data": {
            "text/plain": [
              "[4, 5, 6]"
            ]
          },
          "metadata": {},
          "execution_count": 4
        }
      ]
    },
    {
      "cell_type": "code",
      "source": [
        "# 리스트 객체의 모든 원소를 검색할 때는 순환문을 사용, 내부를 색인연산으로 조회\n",
        "# 리스트의 인덱스와 원소를 가져오려면 'enumerate' 클래스를 사용\n",
        "# 두 개의 순환문을 작성하는 이유 : 내포된 리스트의 원소까지 순환하면서 가져오기 때문\n",
        "\n",
        "for i, a in enumerate(l):\n",
        "  for j, b in enumerate(a):\n",
        "    print(l[i][j])"
      ],
      "metadata": {
        "colab": {
          "base_uri": "https://localhost:8080/"
        },
        "id": "H7htUVJZEKbx",
        "outputId": "1397cf30-29f2-4359-eec7-7eb2267160aa"
      },
      "execution_count": null,
      "outputs": [
        {
          "output_type": "stream",
          "name": "stdout",
          "text": [
            "1\n",
            "2\n",
            "3\n",
            "4\n",
            "5\n",
            "6\n"
          ]
        }
      ]
    },
    {
      "cell_type": "markdown",
      "source": [
        "### 1.2 다차원 배열의 구조 이해\n",
        "- Numpy 모둘의 기본 배열 : 다차원 배열인 ndarray 클래스의 객체\n",
        "- 이 배열은 하나의 자료형으로 만들어진 원소등릉 보관하는 컨테이너"
      ],
      "metadata": {
        "id": "1jmtH-rYFOxe"
      }
    },
    {
      "cell_type": "code",
      "source": [
        "import numpy as np # 기본 제공 모듈이 아니므로 import 필수"
      ],
      "metadata": {
        "id": "wsCX6YuYGCJZ"
      },
      "execution_count": null,
      "outputs": []
    },
    {
      "cell_type": "code",
      "source": [
        "np.__version__"
      ],
      "metadata": {
        "colab": {
          "base_uri": "https://localhost:8080/",
          "height": 35
        },
        "id": "-64f2HMLGQg4",
        "outputId": "0ff745fd-6954-4c27-85bf-339359dc25b3"
      },
      "execution_count": null,
      "outputs": [
        {
          "output_type": "execute_result",
          "data": {
            "text/plain": [
              "'1.21.5'"
            ],
            "application/vnd.google.colaboratory.intrinsic+json": {
              "type": "string"
            }
          },
          "metadata": {},
          "execution_count": 7
        }
      ]
    },
    {
      "cell_type": "code",
      "source": [
        "# 클래스에는 이름을 가지고 있고, 조회하려면 __name__ 속성 사용\n",
        "print(np.ndarray)"
      ],
      "metadata": {
        "colab": {
          "base_uri": "https://localhost:8080/"
        },
        "id": "FrqFKFakGYeE",
        "outputId": "5ced2e43-17bc-4e67-de9b-79c1889e1a96"
      },
      "execution_count": null,
      "outputs": [
        {
          "output_type": "stream",
          "name": "stdout",
          "text": [
            "<class 'numpy.ndarray'>\n"
          ]
        }
      ]
    },
    {
      "cell_type": "code",
      "source": [
        "np.ndarray.__name__"
      ],
      "metadata": {
        "colab": {
          "base_uri": "https://localhost:8080/",
          "height": 35
        },
        "id": "WcIwykE2Gn8z",
        "outputId": "c0379339-36e3-461e-ce40-1365bad8866f"
      },
      "execution_count": null,
      "outputs": [
        {
          "output_type": "execute_result",
          "data": {
            "text/plain": [
              "'ndarray'"
            ],
            "application/vnd.google.colaboratory.intrinsic+json": {
              "type": "string"
            }
          },
          "metadata": {},
          "execution_count": 9
        }
      ]
    },
    {
      "cell_type": "code",
      "source": [
        "# 파이썬에서 클래스를 작성하념 속성과 메소드릉 관리하는 이름공간(namespace)이 만들어짐\n",
        "# var 메소드 : 파이썬 내부에서 작성된 디스크립터(descriptor)의 클래스의 객체\n",
        "\n",
        "type(np.ndarray.var)"
      ],
      "metadata": {
        "colab": {
          "base_uri": "https://localhost:8080/"
        },
        "id": "8AiOhdLiHRgU",
        "outputId": "7ac17a54-29e8-464e-80ba-a1e9f16afc3f"
      },
      "execution_count": null,
      "outputs": [
        {
          "output_type": "execute_result",
          "data": {
            "text/plain": [
              "method_descriptor"
            ]
          },
          "metadata": {},
          "execution_count": 10
        }
      ]
    },
    {
      "cell_type": "code",
      "source": [
        "# dir 함수에 클래스를 인자로 전달하면 이름공간 내의 속성과 메소드의 이름을 문자열로 원소로 가진 리스트로 반환\n",
        "# 파이썬 클래스는 연산자나 특별한 목적에 사용하는 스폐셜 속성과 스폐셜 메소드의 이름은 앞과 뒹에 밑줄(_)이 두 개씩 붙음\n",
        "\n",
        "# 문자열 함수 startswith(시작하는 문자, 시작지점) : 문자열이 특정문자로 시작하는지 여부를 알려줌\n",
        "# True 나 False를 반환\n",
        "\n",
        "# 내부의 if문을 사용해서 ndarray 클래스의 이름공간인 __dict__에 문자열을 색인검색으로 가져와 var와 동일하지 않은 객체 만을 추출\n",
        "# 추출된 결과는 ndarray 클래스에 관리하는 속성만 추출\n",
        "\n",
        "for i in dir(np.ndarray):\n",
        "  if not i.startswith(\"_\"):\n",
        "    if type(np.ndarray.__dict__[i]) != type(np.ndarray.var):\n",
        "      print(i)"
      ],
      "metadata": {
        "colab": {
          "base_uri": "https://localhost:8080/"
        },
        "id": "F8cT5qilHunz",
        "outputId": "ffa50f2d-7567-450a-db75-6619723e418a"
      },
      "execution_count": null,
      "outputs": [
        {
          "output_type": "stream",
          "name": "stdout",
          "text": [
            "T\n",
            "base\n",
            "ctypes\n",
            "data\n",
            "dtype\n",
            "flags\n",
            "flat\n",
            "imag\n",
            "itemsize\n",
            "nbytes\n",
            "ndim\n",
            "real\n",
            "shape\n",
            "size\n",
            "strides\n"
          ]
        }
      ]
    },
    {
      "cell_type": "markdown",
      "source": [
        "\n",
        "\n",
        "> ### 다차원 배열 생성\n",
        "- 다차원 배열은 ndarray 클래스 생성자로 직접 배열을 만들지 않는다.\n",
        "- 배열을 만드는 다양한 함수 제공\n",
        "\n"
      ],
      "metadata": {
        "id": "K5uxAu0jK8_D"
      }
    },
    {
      "cell_type": "code",
      "source": [
        "# example - 2 넘파이 배열 생\n",
        "l = [1, 2, 3, 4]\n",
        "a = np.array(l)"
      ],
      "metadata": {
        "id": "VM5U-mSSLXIk"
      },
      "execution_count": null,
      "outputs": []
    },
    {
      "cell_type": "code",
      "source": [
        "a"
      ],
      "metadata": {
        "colab": {
          "base_uri": "https://localhost:8080/"
        },
        "id": "Z7RwaphOL6nI",
        "outputId": "ae9ee22c-5818-45b4-9721-e288cd0e3d76"
      },
      "execution_count": null,
      "outputs": [
        {
          "output_type": "execute_result",
          "data": {
            "text/plain": [
              "array([1, 2, 3, 4])"
            ]
          },
          "metadata": {},
          "execution_count": 113
        }
      ]
    },
    {
      "cell_type": "code",
      "source": [
        "type(a)"
      ],
      "metadata": {
        "colab": {
          "base_uri": "https://localhost:8080/"
        },
        "id": "bIPxG3cnL9zi",
        "outputId": "a4b0b5e8-e417-420d-b4d4-21dcc932e261"
      },
      "execution_count": null,
      "outputs": [
        {
          "output_type": "execute_result",
          "data": {
            "text/plain": [
              "numpy.ndarray"
            ]
          },
          "metadata": {},
          "execution_count": 114
        }
      ]
    },
    {
      "cell_type": "code",
      "source": [
        "# 튜플을 array 함수에 전달, 다차원 배열 생성\n",
        "t = (1, 2, 3, 4)"
      ],
      "metadata": {
        "id": "9iwhOORWMNub"
      },
      "execution_count": null,
      "outputs": []
    },
    {
      "cell_type": "code",
      "source": [
        "b = np.array(t)"
      ],
      "metadata": {
        "id": "qWt3lMpeNZ_5"
      },
      "execution_count": null,
      "outputs": []
    },
    {
      "cell_type": "code",
      "source": [
        "type(b)"
      ],
      "metadata": {
        "colab": {
          "base_uri": "https://localhost:8080/"
        },
        "id": "4NDDu-WsNeue",
        "outputId": "279d2a59-aae1-481d-ca36-041f9cb5d346"
      },
      "execution_count": null,
      "outputs": [
        {
          "output_type": "execute_result",
          "data": {
            "text/plain": [
              "numpy.ndarray"
            ]
          },
          "metadata": {},
          "execution_count": 117
        }
      ]
    },
    {
      "cell_type": "markdown",
      "source": [
        "- 다차원 배열은 실제 데이터를 관리하는 속성돠 이 데이터의 정보를 관리하는 메타속성을 구분해서 관리\n",
        "- 데이터를 관리하는 속성은 data을 조회하면 메모리에 저장된 레퍼런스를 출력\n",
        "- 데이터를 obj로 참조 -> 다차원 배열의 값을 보여줌"
      ],
      "metadata": {
        "id": "482lbrAINpSY"
      }
    },
    {
      "cell_type": "code",
      "source": [
        "a.data"
      ],
      "metadata": {
        "colab": {
          "base_uri": "https://localhost:8080/"
        },
        "id": "oqOzvTbVONkW",
        "outputId": "e8ecf222-555b-4999-ce5a-be109d2b8dd3"
      },
      "execution_count": null,
      "outputs": [
        {
          "output_type": "execute_result",
          "data": {
            "text/plain": [
              "<memory at 0x7f31ed7c7c80>"
            ]
          },
          "metadata": {},
          "execution_count": 118
        }
      ]
    },
    {
      "cell_type": "code",
      "source": [
        "a.data.obj"
      ],
      "metadata": {
        "colab": {
          "base_uri": "https://localhost:8080/"
        },
        "id": "OlV7ShS7OQQh",
        "outputId": "9d5d840d-51a4-4fe7-a663-e0e6cdf26e3f"
      },
      "execution_count": null,
      "outputs": [
        {
          "output_type": "execute_result",
          "data": {
            "text/plain": [
              "array([1, 2, 3, 4])"
            ]
          },
          "metadata": {},
          "execution_count": 119
        }
      ]
    },
    {
      "cell_type": "code",
      "source": [
        "type(a.data.obj)"
      ],
      "metadata": {
        "colab": {
          "base_uri": "https://localhost:8080/"
        },
        "id": "UjkFAA8cOTPb",
        "outputId": "77db1b08-7bc9-4888-8418-dac157050a25"
      },
      "execution_count": null,
      "outputs": [
        {
          "output_type": "execute_result",
          "data": {
            "text/plain": [
              "numpy.ndarray"
            ]
          },
          "metadata": {},
          "execution_count": 120
        }
      ]
    },
    {
      "cell_type": "markdown",
      "source": [
        "- 다른 변수에 할당하면 다차원 배열을 관리하는 별칭(alias)가 더 만들어짐\n",
        "- 속성 base는 다차원 배열의 메모리를 공유할 때 원본 레퍼런스를 저장\n",
        "- 별칭을 사용하는 것은 동일한 다차원 배열을 공유하는 구조라서 base에는 아무것도 없음"
      ],
      "metadata": {
        "id": "NULCHYQePJcw"
      }
    },
    {
      "cell_type": "code",
      "source": [
        "b"
      ],
      "metadata": {
        "colab": {
          "base_uri": "https://localhost:8080/"
        },
        "id": "eNwxGK0_PjoA",
        "outputId": "668d90bb-5dd3-412b-dcbf-d8515aa2c605"
      },
      "execution_count": null,
      "outputs": [
        {
          "output_type": "execute_result",
          "data": {
            "text/plain": [
              "array([1, 2, 3, 4])"
            ]
          },
          "metadata": {},
          "execution_count": 121
        }
      ]
    },
    {
      "cell_type": "code",
      "source": [
        "c = b"
      ],
      "metadata": {
        "id": "LcgiVUpiPouM"
      },
      "execution_count": null,
      "outputs": []
    },
    {
      "cell_type": "code",
      "source": [
        "c.base is b.base"
      ],
      "metadata": {
        "colab": {
          "base_uri": "https://localhost:8080/"
        },
        "id": "1ZE0CjXPPrNc",
        "outputId": "52c10310-d4c8-4d23-ffb1-14199616cf6c"
      },
      "execution_count": null,
      "outputs": [
        {
          "output_type": "execute_result",
          "data": {
            "text/plain": [
              "True"
            ]
          },
          "metadata": {},
          "execution_count": 123
        }
      ]
    },
    {
      "cell_type": "code",
      "source": [
        "# 첫 번째 원소 변경\n",
        "c[0] = 100"
      ],
      "metadata": {
        "id": "H4AsIH63QVI7"
      },
      "execution_count": null,
      "outputs": []
    },
    {
      "cell_type": "code",
      "source": [
        "c # 새로운 변수 c에 저장된 원소를 변경 -> 내부에 저장된 원본 배열을 변경"
      ],
      "metadata": {
        "colab": {
          "base_uri": "https://localhost:8080/"
        },
        "id": "BRKonLa-Qbpk",
        "outputId": "744ee25a-81be-4c67-a662-3b9a1fee07a0"
      },
      "execution_count": null,
      "outputs": [
        {
          "output_type": "execute_result",
          "data": {
            "text/plain": [
              "array([100,   2,   3,   4])"
            ]
          },
          "metadata": {},
          "execution_count": 125
        }
      ]
    },
    {
      "cell_type": "code",
      "source": [
        "b # 모든 변수를 조회하면 다차원 배열의 변경 확인"
      ],
      "metadata": {
        "colab": {
          "base_uri": "https://localhost:8080/"
        },
        "id": "LydQ0u2FQjbh",
        "outputId": "b04539c9-3e4e-4ea2-b1ed-bcb73658d751"
      },
      "execution_count": null,
      "outputs": [
        {
          "output_type": "execute_result",
          "data": {
            "text/plain": [
              "array([100,   2,   3,   4])"
            ]
          },
          "metadata": {},
          "execution_count": 126
        }
      ]
    },
    {
      "cell_type": "markdown",
      "source": [
        "- 다차원 배열을 복사해서 새로운 배열 생성\n",
        "- 복사된 배열을 변경시 복사된 배열을 변경되지만, 원본은 변경되지 않는다."
      ],
      "metadata": {
        "id": "mnBfz5bIRLve"
      }
    },
    {
      "cell_type": "code",
      "source": [
        "d = np.array(b)"
      ],
      "metadata": {
        "id": "JwhItlULRcTa"
      },
      "execution_count": null,
      "outputs": []
    },
    {
      "cell_type": "code",
      "source": [
        "d[0] = 99"
      ],
      "metadata": {
        "id": "HXqDUWR2Rh4n"
      },
      "execution_count": null,
      "outputs": []
    },
    {
      "cell_type": "code",
      "source": [
        "d"
      ],
      "metadata": {
        "colab": {
          "base_uri": "https://localhost:8080/"
        },
        "id": "KuTsv6e2RkKO",
        "outputId": "545c3f86-17f7-4b9a-a028-b0985be4234f"
      },
      "execution_count": null,
      "outputs": [
        {
          "output_type": "execute_result",
          "data": {
            "text/plain": [
              "array([99,  2,  3,  4])"
            ]
          },
          "metadata": {},
          "execution_count": 129
        }
      ]
    },
    {
      "cell_type": "code",
      "source": [
        "b"
      ],
      "metadata": {
        "colab": {
          "base_uri": "https://localhost:8080/"
        },
        "id": "WwaALc79Rl1F",
        "outputId": "29eaa480-c7a5-425f-d738-74d97f746792"
      },
      "execution_count": null,
      "outputs": [
        {
          "output_type": "execute_result",
          "data": {
            "text/plain": [
              "array([100,   2,   3,   4])"
            ]
          },
          "metadata": {},
          "execution_count": 130
        }
      ]
    },
    {
      "cell_type": "markdown",
      "source": [
        "- 다차원 배열을 생성시, 자료형을 지정하지 않으면 내부의 원소를 보고 자동으로 추론\n"
      ],
      "metadata": {
        "id": "5rXCTnbXTzd5"
      }
    },
    {
      "cell_type": "code",
      "source": [
        "e = np.array(l, dtype=np.float)"
      ],
      "metadata": {
        "colab": {
          "base_uri": "https://localhost:8080/"
        },
        "id": "DTrP-jZXUEQ_",
        "outputId": "50ca1ac3-1d14-4c89-ed47-fe7d3d7b7a17"
      },
      "execution_count": null,
      "outputs": [
        {
          "output_type": "stream",
          "name": "stderr",
          "text": [
            "/usr/local/lib/python3.7/dist-packages/ipykernel_launcher.py:1: DeprecationWarning: `np.float` is a deprecated alias for the builtin `float`. To silence this warning, use `float` by itself. Doing this will not modify any behavior and is safe. If you specifically wanted the numpy scalar type, use `np.float64` here.\n",
            "Deprecated in NumPy 1.20; for more details and guidance: https://numpy.org/devdocs/release/1.20.0-notes.html#deprecations\n",
            "  \"\"\"Entry point for launching an IPython kernel.\n"
          ]
        }
      ]
    },
    {
      "cell_type": "code",
      "source": [
        "e"
      ],
      "metadata": {
        "colab": {
          "base_uri": "https://localhost:8080/"
        },
        "id": "hZUA9qkTUP5Q",
        "outputId": "3ac0ac7b-8590-4029-81da-5f86d2fec74a"
      },
      "execution_count": null,
      "outputs": [
        {
          "output_type": "execute_result",
          "data": {
            "text/plain": [
              "array([1., 2., 3., 4.])"
            ]
          },
          "metadata": {},
          "execution_count": 132
        }
      ]
    },
    {
      "cell_type": "code",
      "source": [
        "e.dtype"
      ],
      "metadata": {
        "colab": {
          "base_uri": "https://localhost:8080/"
        },
        "id": "hyla-KYMUSkB",
        "outputId": "6f003029-6664-4a3d-a133-41c28420053f"
      },
      "execution_count": null,
      "outputs": [
        {
          "output_type": "execute_result",
          "data": {
            "text/plain": [
              "dtype('float64')"
            ]
          },
          "metadata": {},
          "execution_count": 133
        }
      ]
    },
    {
      "cell_type": "markdown",
      "source": [
        "- 2차원 배열\n",
        "- 두 개의 축(axis), 행(row), 열(column)\n",
        "- 행, 열의 개수 출력 -> shape 속성 -> 두 개의 원소를 가진 튜플로 반환\n",
        "- 축의 개수 -> ndim 속성"
      ],
      "metadata": {
        "id": "VMye7gJ8WXn3"
      }
    },
    {
      "cell_type": "code",
      "source": [
        "a2 = np.array([[1, 2, 3], [4, 5, 6]])"
      ],
      "metadata": {
        "id": "nR3BUe96XFHG"
      },
      "execution_count": null,
      "outputs": []
    },
    {
      "cell_type": "code",
      "source": [
        "a2.shape"
      ],
      "metadata": {
        "colab": {
          "base_uri": "https://localhost:8080/"
        },
        "id": "0bdd5lDnbZqz",
        "outputId": "8604c78d-24c4-4002-f97c-ff25da6c9f10"
      },
      "execution_count": null,
      "outputs": [
        {
          "output_type": "execute_result",
          "data": {
            "text/plain": [
              "(2, 3)"
            ]
          },
          "metadata": {},
          "execution_count": 135
        }
      ]
    },
    {
      "cell_type": "code",
      "source": [
        "a2.ndim"
      ],
      "metadata": {
        "colab": {
          "base_uri": "https://localhost:8080/"
        },
        "id": "2A7evUvPbcPe",
        "outputId": "1585d601-8786-4e46-b47e-159ca563421f"
      },
      "execution_count": null,
      "outputs": [
        {
          "output_type": "execute_result",
          "data": {
            "text/plain": [
              "2"
            ]
          },
          "metadata": {},
          "execution_count": 136
        }
      ]
    },
    {
      "cell_type": "code",
      "source": [
        "a2.dtype"
      ],
      "metadata": {
        "colab": {
          "base_uri": "https://localhost:8080/"
        },
        "id": "JJPkOnAbbfEC",
        "outputId": "c8d96061-79f3-45ff-dcca-673486a5f45a"
      },
      "execution_count": null,
      "outputs": [
        {
          "output_type": "execute_result",
          "data": {
            "text/plain": [
              "dtype('int64')"
            ]
          },
          "metadata": {},
          "execution_count": 137
        }
      ]
    },
    {
      "cell_type": "markdown",
      "source": [
        "- 다차원 배열의 모든 원소는 동일한 길이로 구성\n",
        "- 자료가 저장될 때 바이트(byte) 단위로 구성( 1 byte = 8 bit)\n",
        "- itemsize 속성 : 크기 출력\n",
        "- size 속성 : 원소의 개수 = shape 출력의 두 속성을 곱한 값\n"
      ],
      "metadata": {
        "id": "1Z65XZv7cP9y"
      }
    },
    {
      "cell_type": "code",
      "source": [
        "a2.itemsize"
      ],
      "metadata": {
        "colab": {
          "base_uri": "https://localhost:8080/"
        },
        "id": "scihqT4dfHho",
        "outputId": "d046c92b-ff11-4237-b3af-93ca92976c0c"
      },
      "execution_count": null,
      "outputs": [
        {
          "output_type": "execute_result",
          "data": {
            "text/plain": [
              "8"
            ]
          },
          "metadata": {},
          "execution_count": 138
        }
      ]
    },
    {
      "cell_type": "code",
      "source": [
        "a2.size"
      ],
      "metadata": {
        "colab": {
          "base_uri": "https://localhost:8080/"
        },
        "id": "8HsQi8_xfPfA",
        "outputId": "004a502e-b5dc-4a98-82ce-d83b391755b6"
      },
      "execution_count": null,
      "outputs": [
        {
          "output_type": "execute_result",
          "data": {
            "text/plain": [
              "6"
            ]
          },
          "metadata": {},
          "execution_count": 139
        }
      ]
    },
    {
      "cell_type": "code",
      "source": [
        "a2.strides"
      ],
      "metadata": {
        "colab": {
          "base_uri": "https://localhost:8080/"
        },
        "id": "r4nTw3nafiJw",
        "outputId": "ed8d0aa9-f1b0-4ec5-b23d-bcd80ec4e450"
      },
      "execution_count": null,
      "outputs": [
        {
          "output_type": "execute_result",
          "data": {
            "text/plain": [
              "(24, 8)"
            ]
          },
          "metadata": {},
          "execution_count": 140
        }
      ]
    },
    {
      "cell_type": "markdown",
      "source": [
        "- 다차원 배열은 데이터를 저장할 때 내무에서는 1차원으로 구성해서 관리\n",
        "- 다차원 배열을 두 개의 flatten과 ravel 메소드를 사용해서 1차원 배열로 조회 가능\n",
        "- flatten과 ravel의 결과는 서로 다름\n",
        "- 행렬을 flatten 메소드로 실행, 그 다음에 ravel메소드로 실행, 동일한 1차원 배열을 출력\n",
        "- ravel 메소드는 내부 데이터를 그래로 반환하는 뷰(view) -> 원본 배열과 동일한 정보로 처리 -> 원소를 변경하면 원본 배열의 원소도 같이 변경\n",
        "- 원소를 변경할 때 flatten 메소드를 사용해서 다른 다차원 배열을 만들어서 사용하는 것이 좋음"
      ],
      "metadata": {
        "id": "EDihh7ONhXRh"
      }
    },
    {
      "cell_type": "code",
      "source": [
        "a2"
      ],
      "metadata": {
        "colab": {
          "base_uri": "https://localhost:8080/"
        },
        "id": "15sPeVWkimrR",
        "outputId": "61a3ac39-810c-4d88-fa4f-42929e421f3d"
      },
      "execution_count": null,
      "outputs": [
        {
          "output_type": "execute_result",
          "data": {
            "text/plain": [
              "array([[1, 2, 3],\n",
              "       [4, 5, 6]])"
            ]
          },
          "metadata": {},
          "execution_count": 141
        }
      ]
    },
    {
      "cell_type": "code",
      "source": [
        "a2.flatten()"
      ],
      "metadata": {
        "colab": {
          "base_uri": "https://localhost:8080/"
        },
        "id": "8PPdtIGUiqVg",
        "outputId": "311baf29-027e-40cd-8688-028494fa5188"
      },
      "execution_count": null,
      "outputs": [
        {
          "output_type": "execute_result",
          "data": {
            "text/plain": [
              "array([1, 2, 3, 4, 5, 6])"
            ]
          },
          "metadata": {},
          "execution_count": 142
        }
      ]
    },
    {
      "cell_type": "code",
      "source": [
        "a2.ravel()"
      ],
      "metadata": {
        "colab": {
          "base_uri": "https://localhost:8080/"
        },
        "id": "ysS7RkJFiuft",
        "outputId": "135ef784-bc09-425c-9ab4-fa8c7ecc0f7d"
      },
      "execution_count": null,
      "outputs": [
        {
          "output_type": "execute_result",
          "data": {
            "text/plain": [
              "array([1, 2, 3, 4, 5, 6])"
            ]
          },
          "metadata": {},
          "execution_count": 143
        }
      ]
    },
    {
      "cell_type": "code",
      "source": [
        "# example - 3 넘파이 배열 원소 조회\n",
        "a"
      ],
      "metadata": {
        "colab": {
          "base_uri": "https://localhost:8080/"
        },
        "id": "oq_7zPTW1Fh8",
        "outputId": "21f13ed1-f532-4e0a-a13a-b177b1d6226b"
      },
      "execution_count": null,
      "outputs": [
        {
          "output_type": "execute_result",
          "data": {
            "text/plain": [
              "array([1, 2, 3, 4])"
            ]
          },
          "metadata": {},
          "execution_count": 144
        }
      ]
    },
    {
      "cell_type": "code",
      "source": [
        "l"
      ],
      "metadata": {
        "colab": {
          "base_uri": "https://localhost:8080/"
        },
        "id": "l2-L9lJK1ORB",
        "outputId": "a64a4a17-669a-4c99-936f-6f8b767360d0"
      },
      "execution_count": null,
      "outputs": [
        {
          "output_type": "execute_result",
          "data": {
            "text/plain": [
              "[1, 2, 3, 4]"
            ]
          },
          "metadata": {},
          "execution_count": 145
        }
      ]
    },
    {
      "cell_type": "code",
      "source": [
        "a[0]"
      ],
      "metadata": {
        "colab": {
          "base_uri": "https://localhost:8080/"
        },
        "id": "gEpNQI2C1Pfo",
        "outputId": "e0b90389-4470-4699-ab46-17d36fda293b"
      },
      "execution_count": null,
      "outputs": [
        {
          "output_type": "execute_result",
          "data": {
            "text/plain": [
              "1"
            ]
          },
          "metadata": {},
          "execution_count": 146
        }
      ]
    },
    {
      "cell_type": "code",
      "source": [
        "l[0]"
      ],
      "metadata": {
        "colab": {
          "base_uri": "https://localhost:8080/"
        },
        "id": "iRQzdANw1ROs",
        "outputId": "a3415830-122e-4864-9896-8bdb34d53419"
      },
      "execution_count": null,
      "outputs": [
        {
          "output_type": "execute_result",
          "data": {
            "text/plain": [
              "1"
            ]
          },
          "metadata": {},
          "execution_count": 147
        }
      ]
    },
    {
      "cell_type": "code",
      "source": [
        "l2 = [[1, 2, 3], [4, 5, 6]]\n",
        "l2"
      ],
      "metadata": {
        "colab": {
          "base_uri": "https://localhost:8080/"
        },
        "id": "FlyrRNZ51TyE",
        "outputId": "0e81a719-1286-4785-cd16-d8709dbc238d"
      },
      "execution_count": null,
      "outputs": [
        {
          "output_type": "execute_result",
          "data": {
            "text/plain": [
              "[[1, 2, 3], [4, 5, 6]]"
            ]
          },
          "metadata": {},
          "execution_count": 148
        }
      ]
    },
    {
      "cell_type": "code",
      "source": [
        "a2"
      ],
      "metadata": {
        "colab": {
          "base_uri": "https://localhost:8080/"
        },
        "id": "HSUj280P1bB1",
        "outputId": "b3aab60f-eae2-489a-a816-03073453eb1b"
      },
      "execution_count": null,
      "outputs": [
        {
          "output_type": "execute_result",
          "data": {
            "text/plain": [
              "array([[1, 2, 3],\n",
              "       [4, 5, 6]])"
            ]
          },
          "metadata": {},
          "execution_count": 149
        }
      ]
    },
    {
      "cell_type": "markdown",
      "source": [
        "### 1.3 다차원 배열 클래스의 자료구조\n",
        "\n",
        "\n"
      ],
      "metadata": {
        "id": "YtMUHSDR25Lm"
      }
    },
    {
      "cell_type": "code",
      "source": [
        "# example - 1 넘파이 모듈의 배열 내부구조 확인\n",
        "# 리스트를 내포해서 3차원으로 만듦\n",
        "\n",
        "na = np.array([[[1, 2, 3,], [4, 5, 6]], [[1, 2, 3,], [4, 5, 6]]])\n",
        "na"
      ],
      "metadata": {
        "colab": {
          "base_uri": "https://localhost:8080/"
        },
        "id": "3v1f7a6A3VR5",
        "outputId": "1f4310fd-e49a-4ad0-fa5d-4f2181d5a001"
      },
      "execution_count": null,
      "outputs": [
        {
          "output_type": "execute_result",
          "data": {
            "text/plain": [
              "array([[[1, 2, 3],\n",
              "        [4, 5, 6]],\n",
              "\n",
              "       [[1, 2, 3],\n",
              "        [4, 5, 6]]])"
            ]
          },
          "metadata": {},
          "execution_count": 50
        }
      ]
    },
    {
      "cell_type": "code",
      "source": [
        "na.ndim"
      ],
      "metadata": {
        "colab": {
          "base_uri": "https://localhost:8080/"
        },
        "id": "amF_5aFZ4JcG",
        "outputId": "630f7bc6-806d-4b33-edf9-9a92cebabf0c"
      },
      "execution_count": null,
      "outputs": [
        {
          "output_type": "execute_result",
          "data": {
            "text/plain": [
              "3"
            ]
          },
          "metadata": {},
          "execution_count": 51
        }
      ]
    },
    {
      "cell_type": "code",
      "source": [
        "na.shape"
      ],
      "metadata": {
        "colab": {
          "base_uri": "https://localhost:8080/"
        },
        "id": "SKS1MfBD4NBn",
        "outputId": "3ef8ba2b-03d3-4ee6-9c6b-567c49dd43d0"
      },
      "execution_count": null,
      "outputs": [
        {
          "output_type": "execute_result",
          "data": {
            "text/plain": [
              "(2, 2, 3)"
            ]
          },
          "metadata": {},
          "execution_count": 52
        }
      ]
    },
    {
      "cell_type": "code",
      "source": [
        "na[0]"
      ],
      "metadata": {
        "colab": {
          "base_uri": "https://localhost:8080/"
        },
        "id": "pyLreU4X4PX4",
        "outputId": "c8d11a7a-4f52-47ec-f342-f65f84b31b8f"
      },
      "execution_count": null,
      "outputs": [
        {
          "output_type": "execute_result",
          "data": {
            "text/plain": [
              "array([[1, 2, 3],\n",
              "       [4, 5, 6]])"
            ]
          },
          "metadata": {},
          "execution_count": 53
        }
      ]
    },
    {
      "cell_type": "code",
      "source": [
        "na[0].shape"
      ],
      "metadata": {
        "colab": {
          "base_uri": "https://localhost:8080/"
        },
        "id": "NzuR1iUG4Wy_",
        "outputId": "d68bbe35-7221-4078-e997-1b74515a1c43"
      },
      "execution_count": null,
      "outputs": [
        {
          "output_type": "execute_result",
          "data": {
            "text/plain": [
              "(2, 3)"
            ]
          },
          "metadata": {},
          "execution_count": 54
        }
      ]
    },
    {
      "cell_type": "markdown",
      "source": [
        "- 여러 개의 메타 정보를 관리하는 속성을 한꺼번에 조회할 때는 __array_interface__ 스페셜 속성 사용 -> 대부분의 속성을 딕셔너리(dict)로 반환 "
      ],
      "metadata": {
        "id": "Wuk-fgYB4eOj"
      }
    },
    {
      "cell_type": "code",
      "source": [
        "na.__array_interface__"
      ],
      "metadata": {
        "colab": {
          "base_uri": "https://localhost:8080/"
        },
        "id": "ivC_PErz45Yn",
        "outputId": "76dff733-be15-4dab-a7f0-a7326859ca54"
      },
      "execution_count": null,
      "outputs": [
        {
          "output_type": "execute_result",
          "data": {
            "text/plain": [
              "{'data': (94193157342496, False),\n",
              " 'descr': [('', '<i8')],\n",
              " 'shape': (2, 2, 3),\n",
              " 'strides': None,\n",
              " 'typestr': '<i8',\n",
              " 'version': 3}"
            ]
          },
          "metadata": {},
          "execution_count": 55
        }
      ]
    },
    {
      "cell_type": "markdown",
      "source": [
        "- 이 배열의 데이터를 관리하는 data속성에 데이터를 tobytes 메소드로 확인 가능\n",
        "- 다차원 배열은 리스트로 변환 가능 tolist"
      ],
      "metadata": {
        "id": "-dHjokch5GAS"
      }
    },
    {
      "cell_type": "code",
      "source": [
        "na.__array_interface__['data'][0]"
      ],
      "metadata": {
        "colab": {
          "base_uri": "https://localhost:8080/"
        },
        "id": "s45IJJOu5YCb",
        "outputId": "fe3251fd-a19c-4f88-f73d-ecf918e5153b"
      },
      "execution_count": null,
      "outputs": [
        {
          "output_type": "execute_result",
          "data": {
            "text/plain": [
              "94193157342496"
            ]
          },
          "metadata": {},
          "execution_count": 56
        }
      ]
    },
    {
      "cell_type": "code",
      "source": [
        "len(na.data.tobytes())"
      ],
      "metadata": {
        "colab": {
          "base_uri": "https://localhost:8080/"
        },
        "id": "kck-R0N86ASe",
        "outputId": "bf027530-ff30-44bb-851b-ce549460531c"
      },
      "execution_count": null,
      "outputs": [
        {
          "output_type": "execute_result",
          "data": {
            "text/plain": [
              "96"
            ]
          },
          "metadata": {},
          "execution_count": 57
        }
      ]
    },
    {
      "cell_type": "code",
      "source": [
        "na.data.tolist()"
      ],
      "metadata": {
        "colab": {
          "base_uri": "https://localhost:8080/"
        },
        "id": "cpBVA5iY6HvZ",
        "outputId": "94123e2c-ca9e-4b80-df21-393d09133d93"
      },
      "execution_count": null,
      "outputs": [
        {
          "output_type": "execute_result",
          "data": {
            "text/plain": [
              "[[[1, 2, 3], [4, 5, 6]], [[1, 2, 3], [4, 5, 6]]]"
            ]
          },
          "metadata": {},
          "execution_count": 58
        }
      ]
    },
    {
      "cell_type": "code",
      "source": [
        "# example - 2 data 속성 관리 기준\n",
        "a = np.array([1, 2, 3, 4])"
      ],
      "metadata": {
        "id": "OK6BgqtR6V9e"
      },
      "execution_count": null,
      "outputs": []
    },
    {
      "cell_type": "code",
      "source": [
        "a"
      ],
      "metadata": {
        "colab": {
          "base_uri": "https://localhost:8080/"
        },
        "id": "uI_Mtnow7Dx7",
        "outputId": "ae8f9a05-9c7f-4cb2-abfa-d3d609f7bad0"
      },
      "execution_count": null,
      "outputs": [
        {
          "output_type": "execute_result",
          "data": {
            "text/plain": [
              "array([1, 2, 3, 4])"
            ]
          },
          "metadata": {},
          "execution_count": 60
        }
      ]
    },
    {
      "cell_type": "code",
      "source": [
        "a.data"
      ],
      "metadata": {
        "colab": {
          "base_uri": "https://localhost:8080/"
        },
        "id": "X5ZOAYTl7FJY",
        "outputId": "0894f045-2ae1-4930-ba10-25fcee6e8aaf"
      },
      "execution_count": null,
      "outputs": [
        {
          "output_type": "execute_result",
          "data": {
            "text/plain": [
              "<memory at 0x7f31ed7c77a0>"
            ]
          },
          "metadata": {},
          "execution_count": 61
        }
      ]
    },
    {
      "cell_type": "code",
      "source": [
        "# memoryview 클래스에 1차원 배열을 인라고 전달해서 메모리에 로딩하는 객체를 만들고 변수에 할당\n",
        "mem = memoryview(a)"
      ],
      "metadata": {
        "id": "x_iSd4Fr7Jpu"
      },
      "execution_count": null,
      "outputs": []
    },
    {
      "cell_type": "code",
      "source": [
        "mem"
      ],
      "metadata": {
        "colab": {
          "base_uri": "https://localhost:8080/"
        },
        "id": "ZbvEkyjU7c3N",
        "outputId": "ea7e6a7e-5f80-4f35-8209-50f833d74fdc"
      },
      "execution_count": null,
      "outputs": [
        {
          "output_type": "execute_result",
          "data": {
            "text/plain": [
              "<memory at 0x7f31ed7c7940>"
            ]
          },
          "metadata": {},
          "execution_count": 63
        }
      ]
    },
    {
      "cell_type": "code",
      "source": [
        "# 배열의 원소들을 전부 16진수로 변환 -> hex\n",
        "a.data.hex() "
      ],
      "metadata": {
        "colab": {
          "base_uri": "https://localhost:8080/",
          "height": 35
        },
        "id": "CzQ1Hmhq8BMA",
        "outputId": "4a228c32-7991-4a1e-f295-9cb78a1d40fd"
      },
      "execution_count": null,
      "outputs": [
        {
          "output_type": "execute_result",
          "data": {
            "text/plain": [
              "'0100000000000000020000000000000003000000000000000400000000000000'"
            ],
            "application/vnd.google.colaboratory.intrinsic+json": {
              "type": "string"
            }
          },
          "metadata": {},
          "execution_count": 64
        }
      ]
    },
    {
      "cell_type": "markdown",
      "source": [
        "- 모든 원소를 순환할 수 있는 방식 -> flat 속성 사용 -> 하나의 반속자 제공 -> 이를 순환문에 작성해서 원소를 하나씩 조회"
      ],
      "metadata": {
        "id": "rx5ewVMP-E4Q"
      }
    },
    {
      "cell_type": "code",
      "source": [
        "a.flat"
      ],
      "metadata": {
        "colab": {
          "base_uri": "https://localhost:8080/"
        },
        "id": "1_W_GHLR-om9",
        "outputId": "a28509fe-fdeb-483a-ebfe-a55b3afd60c0"
      },
      "execution_count": null,
      "outputs": [
        {
          "output_type": "execute_result",
          "data": {
            "text/plain": [
              "<numpy.flatiter at 0x55ab0e841700>"
            ]
          },
          "metadata": {},
          "execution_count": 65
        }
      ]
    },
    {
      "cell_type": "code",
      "source": [
        "for i in a.flat:\n",
        "  print(i)"
      ],
      "metadata": {
        "colab": {
          "base_uri": "https://localhost:8080/"
        },
        "id": "-nk2rITT-rbQ",
        "outputId": "a9484234-aa96-476b-8d23-62959f30f8bc"
      },
      "execution_count": null,
      "outputs": [
        {
          "output_type": "stream",
          "name": "stdout",
          "text": [
            "1\n",
            "2\n",
            "3\n",
            "4\n"
          ]
        }
      ]
    },
    {
      "cell_type": "markdown",
      "source": [
        "- 다차원 배열을 복사하지 않고 공유할 수 있음 -> frombuffer 함수에 배열을 인자로 전달해서 동일한 배열을 공유해서 사용\n",
        "- 정수를 원소로 가진 리스트를 인자로 전달하지만 자료형은 float_ 인 실수\n",
        "- 만들어진 배열의 원소를 확인하면 숫자 뒤에 점이 붙어서 실수를 표현\n",
        "- frombuffer 함수로 공유해서 새로운 변수에 할당"
      ],
      "metadata": {
        "id": "Pi-XAFtJ-1Kd"
      }
    },
    {
      "cell_type": "code",
      "source": [
        "c = np.array([1, 2, 3, 4], dtype=np.float_)"
      ],
      "metadata": {
        "id": "Z2PkuUQZAjOm"
      },
      "execution_count": null,
      "outputs": []
    },
    {
      "cell_type": "code",
      "source": [
        "c"
      ],
      "metadata": {
        "colab": {
          "base_uri": "https://localhost:8080/"
        },
        "id": "xTcbFoCUFBsd",
        "outputId": "2f9bbab4-ceff-47a2-9d18-44de2015a93b"
      },
      "execution_count": null,
      "outputs": [
        {
          "output_type": "execute_result",
          "data": {
            "text/plain": [
              "array([1., 2., 3., 4.])"
            ]
          },
          "metadata": {},
          "execution_count": 68
        }
      ]
    },
    {
      "cell_type": "code",
      "source": [
        "x = np.frombuffer(c)"
      ],
      "metadata": {
        "id": "enGmpVnoFEVD"
      },
      "execution_count": null,
      "outputs": []
    },
    {
      "cell_type": "code",
      "source": [
        "x"
      ],
      "metadata": {
        "colab": {
          "base_uri": "https://localhost:8080/"
        },
        "id": "nwxzKtq6FNYa",
        "outputId": "01bb9587-15e8-4b12-bc63-8830facc7551"
      },
      "execution_count": null,
      "outputs": [
        {
          "output_type": "execute_result",
          "data": {
            "text/plain": [
              "array([1., 2., 3., 4.])"
            ]
          },
          "metadata": {},
          "execution_count": 70
        }
      ]
    },
    {
      "cell_type": "markdown",
      "source": [
        "- 배열의 정보들을 관리하는 정보인 flags 속성"
      ],
      "metadata": {
        "id": "LuCL1oNXFkPc"
      }
    },
    {
      "cell_type": "code",
      "source": [
        "x.dtype"
      ],
      "metadata": {
        "colab": {
          "base_uri": "https://localhost:8080/"
        },
        "id": "LT0JT8sgFwtB",
        "outputId": "93c3790d-ec3c-405a-c1d2-b9bd7cea4e2e"
      },
      "execution_count": null,
      "outputs": [
        {
          "output_type": "execute_result",
          "data": {
            "text/plain": [
              "dtype('float64')"
            ]
          },
          "metadata": {},
          "execution_count": 71
        }
      ]
    },
    {
      "cell_type": "code",
      "source": [
        "x[0]"
      ],
      "metadata": {
        "colab": {
          "base_uri": "https://localhost:8080/"
        },
        "id": "12_sr42dFy25",
        "outputId": "6ef22200-6a09-40d7-c3a3-6a3b6c72afad"
      },
      "execution_count": null,
      "outputs": [
        {
          "output_type": "execute_result",
          "data": {
            "text/plain": [
              "1.0"
            ]
          },
          "metadata": {},
          "execution_count": 72
        }
      ]
    },
    {
      "cell_type": "code",
      "source": [
        "x.flags"
      ],
      "metadata": {
        "colab": {
          "base_uri": "https://localhost:8080/"
        },
        "id": "OMG1-AQUF03V",
        "outputId": "0602b994-868c-4d4c-e8d1-dbcaf1b40afa"
      },
      "execution_count": null,
      "outputs": [
        {
          "output_type": "execute_result",
          "data": {
            "text/plain": [
              "  C_CONTIGUOUS : True\n",
              "  F_CONTIGUOUS : True\n",
              "  OWNDATA : False\n",
              "  WRITEABLE : True\n",
              "  ALIGNED : True\n",
              "  WRITEBACKIFCOPY : False\n",
              "  UPDATEIFCOPY : False"
            ]
          },
          "metadata": {},
          "execution_count": 73
        }
      ]
    },
    {
      "cell_type": "markdown",
      "source": [
        "### 1.4 다차원 배열의 두 클래스 비교\n",
        "- 다차원 배열을 만드는 두 개의 클래스 ndarray와 matrix 제공\n",
        "- 행렬만을 처리하는 matrix 클래스와 다양한 차원의 배열을 처리하는 ndarray로 구분\n",
        "- 곱셈 연산자(*) : ndarray -> 요소간 곱, matrix -> 행렬곱\n",
        "\n"
      ],
      "metadata": {
        "id": "ZwLZn6m7Gz9B"
      }
    },
    {
      "cell_type": "markdown",
      "source": [
        "\n",
        "\n",
        ">예제 1 두 클래스 비교\n",
        "- 상속관계 -> __base__ 속성\n",
        "- matrix 클래스 -> ndarray 클래스를 상속하여 구현\n",
        "- 상속관계가 중요한 것은 상위 클래스의 특징들을 하위 클래스에서 반영하여 구현\n",
        "- 상위 클래스의 특징을 하면 하위 클래스에서 구현한 기능들을 예측 가능\n",
        "- 여러 차원을 처리하는 ndarray을 상속을 받아서 matrix 클래스를 정의한 것은 다양한 차원에서 2차원으로 한정해서 처리\n"
      ],
      "metadata": {
        "id": "O-9Dja-p99xd"
      }
    },
    {
      "cell_type": "code",
      "source": [
        "np.ndarray.__base__"
      ],
      "metadata": {
        "colab": {
          "base_uri": "https://localhost:8080/"
        },
        "id": "sY_aUT5O_X8h",
        "outputId": "b0e4ec51-c760-45ff-ad4e-030cfbb533e3"
      },
      "execution_count": null,
      "outputs": [
        {
          "output_type": "execute_result",
          "data": {
            "text/plain": [
              "object"
            ]
          },
          "metadata": {},
          "execution_count": 150
        }
      ]
    },
    {
      "cell_type": "code",
      "source": [
        "np.matrix.__base__"
      ],
      "metadata": {
        "colab": {
          "base_uri": "https://localhost:8080/"
        },
        "id": "NnXJV9NE_eml",
        "outputId": "6c37d544-dcb4-435f-eba6-89da7ee2c65e"
      },
      "execution_count": null,
      "outputs": [
        {
          "output_type": "execute_result",
          "data": {
            "text/plain": [
              "numpy.ndarray"
            ]
          },
          "metadata": {},
          "execution_count": 151
        }
      ]
    },
    {
      "cell_type": "markdown",
      "source": [
        "\n",
        "\n",
        "> 예제 1\n",
        "- 동잏한 리스트를 인자로 전다해서 array 함수로 다차원 배열의 객체, matrix 클래스로 행렬의 객체를 만듬\n",
        "- 만들어진 두 객체의 형상을 확인하면 다차원 배열은 1차원이지만 matrix 클래스의 객체은 항상 2차원\n",
        "\n"
      ],
      "metadata": {
        "id": "nkGsb-wG_xWk"
      }
    },
    {
      "cell_type": "code",
      "source": [
        "ll = np.array([1, 2, 3, 4, 5, 6, 7, 8])"
      ],
      "metadata": {
        "id": "Kj1Ov1elAUXB"
      },
      "execution_count": null,
      "outputs": []
    },
    {
      "cell_type": "code",
      "source": [
        "ll.shape"
      ],
      "metadata": {
        "colab": {
          "base_uri": "https://localhost:8080/"
        },
        "id": "061Bw-0cAb6B",
        "outputId": "748f5bf2-7af0-46f7-c262-463ef361d82a"
      },
      "execution_count": null,
      "outputs": [
        {
          "output_type": "execute_result",
          "data": {
            "text/plain": [
              "(8,)"
            ]
          },
          "metadata": {},
          "execution_count": 153
        }
      ]
    },
    {
      "cell_type": "code",
      "source": [
        "m1 = np.matrix([1, 2, 3, 4, 5, 6, 7, 8])"
      ],
      "metadata": {
        "id": "C2e3Xe5KAfui"
      },
      "execution_count": null,
      "outputs": []
    },
    {
      "cell_type": "code",
      "source": [
        "m1.shape"
      ],
      "metadata": {
        "colab": {
          "base_uri": "https://localhost:8080/"
        },
        "id": "fV1SkI2tAnS_",
        "outputId": "c3e1a775-ab4e-43fb-f27f-9fc3c16a909c"
      },
      "execution_count": null,
      "outputs": [
        {
          "output_type": "execute_result",
          "data": {
            "text/plain": [
              "(1, 8)"
            ]
          },
          "metadata": {},
          "execution_count": 155
        }
      ]
    },
    {
      "cell_type": "code",
      "source": [
        "l2 = ll.reshape(2, 4)"
      ],
      "metadata": {
        "id": "-yjFfWCbBfkC"
      },
      "execution_count": null,
      "outputs": []
    },
    {
      "cell_type": "code",
      "source": [
        "l2.shape"
      ],
      "metadata": {
        "colab": {
          "base_uri": "https://localhost:8080/"
        },
        "id": "CIOor_8kBkCz",
        "outputId": "058240b2-2a23-40e0-b1a0-e20fd3e81633"
      },
      "execution_count": null,
      "outputs": [
        {
          "output_type": "execute_result",
          "data": {
            "text/plain": [
              "(2, 4)"
            ]
          },
          "metadata": {},
          "execution_count": 157
        }
      ]
    },
    {
      "cell_type": "code",
      "source": [
        "m2 = m1.reshape(2, 4)"
      ],
      "metadata": {
        "id": "vu2tDaCWBng7"
      },
      "execution_count": null,
      "outputs": []
    },
    {
      "cell_type": "code",
      "source": [
        "m2.shape"
      ],
      "metadata": {
        "colab": {
          "base_uri": "https://localhost:8080/"
        },
        "id": "dfze8xg5BttB",
        "outputId": "be3d4875-bac8-40a2-f9e0-3ac4eaaa472f"
      },
      "execution_count": null,
      "outputs": [
        {
          "output_type": "execute_result",
          "data": {
            "text/plain": [
              "(2, 4)"
            ]
          },
          "metadata": {},
          "execution_count": 159
        }
      ]
    },
    {
      "cell_type": "code",
      "source": [
        "# 3차원 형상으로 변경\n",
        "# 다차원 배열은 형상을 변경할 수 있지만 2차원만 처리하는 matrix 클래스는 예외를 발생\n",
        "# 이 클래스는 2차원인 행렬만 처리\n",
        "\n",
        "l3 = l2.reshape(2, 2, 2)"
      ],
      "metadata": {
        "id": "hGlI_HdVB8mb"
      },
      "execution_count": null,
      "outputs": []
    },
    {
      "cell_type": "code",
      "source": [
        "try:\n",
        "  m3 = m2.reshape(2, 2, 2)\n",
        "except Exception as w:\n",
        "  print(\" 예외 \", e)"
      ],
      "metadata": {
        "colab": {
          "base_uri": "https://localhost:8080/"
        },
        "id": "OtpdjsUQCXxa",
        "outputId": "1c66410e-2936-43a4-88f9-7bd41fea49e7"
      },
      "execution_count": null,
      "outputs": [
        {
          "output_type": "stream",
          "name": "stdout",
          "text": [
            " 예외  [1. 2. 3. 4.]\n"
          ]
        }
      ]
    },
    {
      "cell_type": "code",
      "source": [
        "m2_1 = np.asmatrix(ll).reshape(2, 4)"
      ],
      "metadata": {
        "id": "1gLQJah6CwjC"
      },
      "execution_count": null,
      "outputs": []
    },
    {
      "cell_type": "code",
      "source": [
        "m2_1"
      ],
      "metadata": {
        "id": "vB3668bbERFP",
        "outputId": "f5595e8a-8a3d-4f1a-f926-4703f48b41c2",
        "colab": {
          "base_uri": "https://localhost:8080/"
        }
      },
      "execution_count": null,
      "outputs": [
        {
          "output_type": "execute_result",
          "data": {
            "text/plain": [
              "matrix([[1, 2, 3, 4],\n",
              "        [5, 6, 7, 8]])"
            ]
          },
          "metadata": {},
          "execution_count": 163
        }
      ]
    }
  ]
}