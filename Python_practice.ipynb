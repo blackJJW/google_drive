{
  "nbformat": 4,
  "nbformat_minor": 0,
  "metadata": {
    "colab": {
      "name": "Python_practice.ipynb",
      "provenance": [],
      "toc_visible": true,
      "authorship_tag": "ABX9TyPe4laYxUnSAO+R0GCnsZhH",
      "include_colab_link": true
    },
    "kernelspec": {
      "name": "python3",
      "display_name": "Python 3"
    },
    "language_info": {
      "name": "python"
    }
  },
  "cells": [
    {
      "cell_type": "markdown",
      "metadata": {
        "id": "view-in-github",
        "colab_type": "text"
      },
      "source": [
        "<a href=\"https://colab.research.google.com/github/blackJJW/google_drive/blob/main/Python_practice.ipynb\" target=\"_parent\"><img src=\"https://colab.research.google.com/assets/colab-badge.svg\" alt=\"Open In Colab\"/></a>"
      ]
    },
    {
      "cell_type": "markdown",
      "source": [
        "# **Numpy**"
      ],
      "metadata": {
        "id": "Rk3uyAyZAf82"
      }
    },
    {
      "cell_type": "markdown",
      "source": [
        "## 01 배열(Array) 구조 이해\n",
        "- 하나의 자료형, 원소를 순서에 맞춰 나열하는 자료구조\n",
        "- Python -> 리스트(list) 제공\n",
        "- 일반적 배열과 리스트의 차이 -> 리스트는 다양한 자료형인 클래스의 객체를 원소로 받음\n",
        "- 다차원 배열은 배열의 기본 특징에 따라 모든 원소가 하나의 자료형\n"
      ],
      "metadata": {
        "id": "A1MRl0KaAzoX"
      }
    },
    {
      "cell_type": "markdown",
      "source": [
        "### 1.1 파이썬 리스트 구조 이해\n",
        "- 리스트의 하나의 자료형은 Python에서 제공하는 최상위 클래스인 object\n",
        "- 순차적으로 원소를 관리하는 것이 중요\n",
        "- 원소를 저장하는 순서 -> 인덱스(Index) : 내부의 원소를 검색할 때 인덱스 정보 이용\n",
        "\n"
      ],
      "metadata": {
        "id": "BcjT4ByuB5ar"
      }
    },
    {
      "cell_type": "markdown",
      "source": [
        "\n",
        "\n",
        "> 파이썬 리스트의 구조\n",
        "- Python에서 리스트를 만들면 저장되는 원소는 실제 값이 아닌 객체 레퍼런스\n",
        "- 이 객체들은 순서를 지정하는 인덱스에 매칭되어 관리\n",
        "\n"
      ],
      "metadata": {
        "id": "u1cTCYrCC6uU"
      }
    },
    {
      "cell_type": "markdown",
      "source": [
        "\n",
        "\n",
        "> 리스트를 생성해서 각 원소에 접근\n",
        "- 인덱스를 사용해서 검색하면 객체의 레퍼런스를 사용해서 객체 정보를 반환\n",
        "\n"
      ],
      "metadata": {
        "id": "6X-cOiusDb1y"
      }
    },
    {
      "cell_type": "code",
      "source": [
        "# example - 1\n",
        "l = [[1, 2, 3], [4, 5, 6]]"
      ],
      "metadata": {
        "id": "CE9jg7R2Dref"
      },
      "execution_count": 1,
      "outputs": []
    },
    {
      "cell_type": "code",
      "source": [
        "type(l)"
      ],
      "metadata": {
        "colab": {
          "base_uri": "https://localhost:8080/"
        },
        "id": "IlRg2lcnD6Uq",
        "outputId": "caa8c4c8-402c-4550-e155-f137dc3e7efe"
      },
      "execution_count": 2,
      "outputs": [
        {
          "output_type": "execute_result",
          "data": {
            "text/plain": [
              "list"
            ]
          },
          "metadata": {},
          "execution_count": 2
        }
      ]
    },
    {
      "cell_type": "code",
      "source": [
        "l[0]"
      ],
      "metadata": {
        "colab": {
          "base_uri": "https://localhost:8080/"
        },
        "id": "KDuv_WHuECxz",
        "outputId": "86f8b471-367a-4734-98f8-d6757fc93be5"
      },
      "execution_count": 3,
      "outputs": [
        {
          "output_type": "execute_result",
          "data": {
            "text/plain": [
              "[1, 2, 3]"
            ]
          },
          "metadata": {},
          "execution_count": 3
        }
      ]
    },
    {
      "cell_type": "code",
      "source": [
        "l[1]"
      ],
      "metadata": {
        "colab": {
          "base_uri": "https://localhost:8080/"
        },
        "id": "43tu7gpVEFbg",
        "outputId": "77c05197-9cff-4267-da35-a462cc8a7ea9"
      },
      "execution_count": 4,
      "outputs": [
        {
          "output_type": "execute_result",
          "data": {
            "text/plain": [
              "[4, 5, 6]"
            ]
          },
          "metadata": {},
          "execution_count": 4
        }
      ]
    },
    {
      "cell_type": "code",
      "source": [
        "# 리스트 객체의 모든 원소를 검색할 때는 순환문을 사용, 내부를 색인연산으로 조회\n",
        "# 리스트의 인덱스와 원소를 가져오려면 'enumerate' 클래스를 사용\n",
        "# 두 개의 순환문을 작성하는 이유 : 내포된 리스트의 원소까지 순환하면서 가져오기 때문\n",
        "\n",
        "for i, a in enumerate(l):\n",
        "  for j, b in enumerate(a):\n",
        "    print(l[i][j])"
      ],
      "metadata": {
        "colab": {
          "base_uri": "https://localhost:8080/"
        },
        "id": "H7htUVJZEKbx",
        "outputId": "cb0d631b-aa2c-4dfd-816f-75ff10fd495b"
      },
      "execution_count": 5,
      "outputs": [
        {
          "output_type": "stream",
          "name": "stdout",
          "text": [
            "1\n",
            "2\n",
            "3\n",
            "4\n",
            "5\n",
            "6\n"
          ]
        }
      ]
    },
    {
      "cell_type": "markdown",
      "source": [
        "### 1.2 다차원 배열의 구조 이해\n",
        "- Numpy 모둘의 기본 배열 : 다차원 배열인 ndarray 클래스의 객체\n",
        "- 이 배열은 하나의 자료형으로 만들어진 원소등릉 보관하는 컨테이너"
      ],
      "metadata": {
        "id": "1jmtH-rYFOxe"
      }
    },
    {
      "cell_type": "code",
      "source": [
        "import numpy as np # 기본 제공 모듈이 아니므로 import 필수"
      ],
      "metadata": {
        "id": "wsCX6YuYGCJZ"
      },
      "execution_count": 6,
      "outputs": []
    },
    {
      "cell_type": "code",
      "source": [
        "np.__version__"
      ],
      "metadata": {
        "colab": {
          "base_uri": "https://localhost:8080/",
          "height": 35
        },
        "id": "-64f2HMLGQg4",
        "outputId": "9e2a1c71-9d8c-4a6a-97b8-5797104933fe"
      },
      "execution_count": 7,
      "outputs": [
        {
          "output_type": "execute_result",
          "data": {
            "text/plain": [
              "'1.21.5'"
            ],
            "application/vnd.google.colaboratory.intrinsic+json": {
              "type": "string"
            }
          },
          "metadata": {},
          "execution_count": 7
        }
      ]
    },
    {
      "cell_type": "code",
      "source": [
        "# 클래스에는 이름을 가지고 있고, 조회하려면 __name__ 속성 사용\n",
        "print(np.ndarray)"
      ],
      "metadata": {
        "colab": {
          "base_uri": "https://localhost:8080/"
        },
        "id": "FrqFKFakGYeE",
        "outputId": "a3f50367-3b36-4983-81a0-171e353451dc"
      },
      "execution_count": 8,
      "outputs": [
        {
          "output_type": "stream",
          "name": "stdout",
          "text": [
            "<class 'numpy.ndarray'>\n"
          ]
        }
      ]
    },
    {
      "cell_type": "code",
      "source": [
        "np.ndarray.__name__"
      ],
      "metadata": {
        "colab": {
          "base_uri": "https://localhost:8080/",
          "height": 35
        },
        "id": "WcIwykE2Gn8z",
        "outputId": "c46e5d74-de14-48b5-b558-930a5bad2c95"
      },
      "execution_count": 9,
      "outputs": [
        {
          "output_type": "execute_result",
          "data": {
            "text/plain": [
              "'ndarray'"
            ],
            "application/vnd.google.colaboratory.intrinsic+json": {
              "type": "string"
            }
          },
          "metadata": {},
          "execution_count": 9
        }
      ]
    },
    {
      "cell_type": "code",
      "source": [
        "# 파이썬에서 클래스를 작성하념 속성과 메소드릉 관리하는 이름공간(namespace)이 만들어짐\n",
        "# var 메소드 : 파이썬 내부에서 작성된 디스크립터(descriptor)의 클래스의 객체\n",
        "\n",
        "type(np.ndarray.var)"
      ],
      "metadata": {
        "colab": {
          "base_uri": "https://localhost:8080/"
        },
        "id": "8AiOhdLiHRgU",
        "outputId": "91fea4bb-b2ae-4cdb-92e1-a5cd708749cf"
      },
      "execution_count": 10,
      "outputs": [
        {
          "output_type": "execute_result",
          "data": {
            "text/plain": [
              "method_descriptor"
            ]
          },
          "metadata": {},
          "execution_count": 10
        }
      ]
    },
    {
      "cell_type": "code",
      "source": [
        "# dir 함수에 클래스를 인자로 전달하면 이름공간 내의 속성과 메소드의 이름을 문자열로 원소로 가진 리스트로 반환\n",
        "# 파이썬 클래스는 연산자나 특별한 목적에 사용하는 스폐셜 속성과 스폐셜 메소드의 이름은 앞과 뒹에 밑줄(_)이 두 개씩 붙음\n",
        "\n",
        "# 문자열 함수 startswith(시작하는 문자, 시작지점) : 문자열이 특정문자로 시작하는지 여부를 알려줌\n",
        "# True 나 False를 반환\n",
        "\n",
        "# 내부의 if문을 사용해서 ndarray 클래스의 이름공간인 __dict__에 문자열을 색인검색으로 가져와 var와 동일하지 않은 객체 만을 추출\n",
        "# 추출된 결과는 ndarray 클래스에 관리하는 속성만 추출\n",
        "\n",
        "for i in dir(np.ndarray):\n",
        "  if not i.startswith(\"_\"):\n",
        "    if type(np.ndarray.__dict__[i]) != type(np.ndarray.var):\n",
        "      print(i)"
      ],
      "metadata": {
        "colab": {
          "base_uri": "https://localhost:8080/"
        },
        "id": "F8cT5qilHunz",
        "outputId": "619a11e9-b3e5-48f2-8d3d-9dd6ca6a25e0"
      },
      "execution_count": 11,
      "outputs": [
        {
          "output_type": "stream",
          "name": "stdout",
          "text": [
            "T\n",
            "base\n",
            "ctypes\n",
            "data\n",
            "dtype\n",
            "flags\n",
            "flat\n",
            "imag\n",
            "itemsize\n",
            "nbytes\n",
            "ndim\n",
            "real\n",
            "shape\n",
            "size\n",
            "strides\n"
          ]
        }
      ]
    },
    {
      "cell_type": "markdown",
      "source": [
        "\n",
        "\n",
        "> ### 다차원 배열 생성\n",
        "- 다차원 배열은 ndarray 클래스 생성자로 직접 배열을 만들지 않는다.\n",
        "- 배열을 만드는 다양한 함수 제공\n",
        "\n"
      ],
      "metadata": {
        "id": "K5uxAu0jK8_D"
      }
    },
    {
      "cell_type": "code",
      "source": [
        "# example - 2 넘파이 배열 생\n",
        "l = [1, 2, 3, 4]\n",
        "a = np.array(l)"
      ],
      "metadata": {
        "id": "VM5U-mSSLXIk"
      },
      "execution_count": 12,
      "outputs": []
    },
    {
      "cell_type": "code",
      "source": [
        "a"
      ],
      "metadata": {
        "colab": {
          "base_uri": "https://localhost:8080/"
        },
        "id": "Z7RwaphOL6nI",
        "outputId": "cb7d7716-f212-4aca-e587-bd80f6d67878"
      },
      "execution_count": 13,
      "outputs": [
        {
          "output_type": "execute_result",
          "data": {
            "text/plain": [
              "array([1, 2, 3, 4])"
            ]
          },
          "metadata": {},
          "execution_count": 13
        }
      ]
    },
    {
      "cell_type": "code",
      "source": [
        "type(a)"
      ],
      "metadata": {
        "colab": {
          "base_uri": "https://localhost:8080/"
        },
        "id": "bIPxG3cnL9zi",
        "outputId": "3e2c8fcd-c2ac-4461-c55d-cb0fa76717eb"
      },
      "execution_count": 14,
      "outputs": [
        {
          "output_type": "execute_result",
          "data": {
            "text/plain": [
              "numpy.ndarray"
            ]
          },
          "metadata": {},
          "execution_count": 14
        }
      ]
    },
    {
      "cell_type": "code",
      "source": [
        "# 튜플을 array 함수에 전달, 다차원 배열 생성\n",
        "t = (1, 2, 3, 4)"
      ],
      "metadata": {
        "id": "9iwhOORWMNub"
      },
      "execution_count": 15,
      "outputs": []
    },
    {
      "cell_type": "code",
      "source": [
        "b = np.array(t)"
      ],
      "metadata": {
        "id": "qWt3lMpeNZ_5"
      },
      "execution_count": 16,
      "outputs": []
    },
    {
      "cell_type": "code",
      "source": [
        "type(b)"
      ],
      "metadata": {
        "colab": {
          "base_uri": "https://localhost:8080/"
        },
        "id": "4NDDu-WsNeue",
        "outputId": "46d96d9b-6f94-4b31-97bd-863fbec8017a"
      },
      "execution_count": 17,
      "outputs": [
        {
          "output_type": "execute_result",
          "data": {
            "text/plain": [
              "numpy.ndarray"
            ]
          },
          "metadata": {},
          "execution_count": 17
        }
      ]
    },
    {
      "cell_type": "markdown",
      "source": [
        "- 다차원 배열은 실제 데이터를 관리하는 속성돠 이 데이터의 정보를 관리하는 메타속성을 구분해서 관리\n",
        "- 데이터를 관리하는 속성은 data을 조회하면 메모리에 저장된 레퍼런스를 출력\n",
        "- 데이터를 obj로 참조 -> 다차원 배열의 값을 보여줌"
      ],
      "metadata": {
        "id": "482lbrAINpSY"
      }
    },
    {
      "cell_type": "code",
      "source": [
        "a.data"
      ],
      "metadata": {
        "colab": {
          "base_uri": "https://localhost:8080/"
        },
        "id": "oqOzvTbVONkW",
        "outputId": "ef4cce86-b334-42e1-8519-7400e5edd718"
      },
      "execution_count": 18,
      "outputs": [
        {
          "output_type": "execute_result",
          "data": {
            "text/plain": [
              "<memory at 0x7f99fa645a10>"
            ]
          },
          "metadata": {},
          "execution_count": 18
        }
      ]
    },
    {
      "cell_type": "code",
      "source": [
        "a.data.obj"
      ],
      "metadata": {
        "colab": {
          "base_uri": "https://localhost:8080/"
        },
        "id": "OlV7ShS7OQQh",
        "outputId": "12f215c2-fd8b-48a7-ac32-f3b1ff513ce7"
      },
      "execution_count": 19,
      "outputs": [
        {
          "output_type": "execute_result",
          "data": {
            "text/plain": [
              "array([1, 2, 3, 4])"
            ]
          },
          "metadata": {},
          "execution_count": 19
        }
      ]
    },
    {
      "cell_type": "code",
      "source": [
        "type(a.data.obj)"
      ],
      "metadata": {
        "colab": {
          "base_uri": "https://localhost:8080/"
        },
        "id": "UjkFAA8cOTPb",
        "outputId": "0fdbe553-b988-48a8-9bc9-d172e8d8593f"
      },
      "execution_count": 20,
      "outputs": [
        {
          "output_type": "execute_result",
          "data": {
            "text/plain": [
              "numpy.ndarray"
            ]
          },
          "metadata": {},
          "execution_count": 20
        }
      ]
    },
    {
      "cell_type": "markdown",
      "source": [
        "- 다른 변수에 할당하면 다차원 배열을 관리하는 별칭(alias)가 더 만들어짐\n",
        "- 속성 base는 다차원 배열의 메모리를 공유할 때 원본 레퍼런스를 저장\n",
        "- 별칭을 사용하는 것은 동일한 다차원 배열을 공유하는 구조라서 base에는 아무것도 없음"
      ],
      "metadata": {
        "id": "NULCHYQePJcw"
      }
    },
    {
      "cell_type": "code",
      "source": [
        "b"
      ],
      "metadata": {
        "colab": {
          "base_uri": "https://localhost:8080/"
        },
        "id": "eNwxGK0_PjoA",
        "outputId": "52cb9680-8c0a-458d-ff1e-57392ca4c19f"
      },
      "execution_count": 21,
      "outputs": [
        {
          "output_type": "execute_result",
          "data": {
            "text/plain": [
              "array([1, 2, 3, 4])"
            ]
          },
          "metadata": {},
          "execution_count": 21
        }
      ]
    },
    {
      "cell_type": "code",
      "source": [
        "c = b"
      ],
      "metadata": {
        "id": "LcgiVUpiPouM"
      },
      "execution_count": 22,
      "outputs": []
    },
    {
      "cell_type": "code",
      "source": [
        "c.base is b.base"
      ],
      "metadata": {
        "colab": {
          "base_uri": "https://localhost:8080/"
        },
        "id": "1ZE0CjXPPrNc",
        "outputId": "6b5fa8ee-cebd-4eb9-c623-8a8cfa8ec073"
      },
      "execution_count": 23,
      "outputs": [
        {
          "output_type": "execute_result",
          "data": {
            "text/plain": [
              "True"
            ]
          },
          "metadata": {},
          "execution_count": 23
        }
      ]
    },
    {
      "cell_type": "code",
      "source": [
        "# 첫 번째 원소 변경\n",
        "c[0] = 100"
      ],
      "metadata": {
        "id": "H4AsIH63QVI7"
      },
      "execution_count": 24,
      "outputs": []
    },
    {
      "cell_type": "code",
      "source": [
        "c # 새로운 변수 c에 저장된 원소를 변경 -> 내부에 저장된 원본 배열을 변경"
      ],
      "metadata": {
        "colab": {
          "base_uri": "https://localhost:8080/"
        },
        "id": "BRKonLa-Qbpk",
        "outputId": "7b90a9f5-f4b3-42a5-93c0-68d58556aa77"
      },
      "execution_count": 25,
      "outputs": [
        {
          "output_type": "execute_result",
          "data": {
            "text/plain": [
              "array([100,   2,   3,   4])"
            ]
          },
          "metadata": {},
          "execution_count": 25
        }
      ]
    },
    {
      "cell_type": "code",
      "source": [
        "b # 모든 변수를 조회하면 다차원 배열의 변경 확인"
      ],
      "metadata": {
        "colab": {
          "base_uri": "https://localhost:8080/"
        },
        "id": "LydQ0u2FQjbh",
        "outputId": "d9e779d8-3182-421e-a0fb-d95e0364f1d6"
      },
      "execution_count": 26,
      "outputs": [
        {
          "output_type": "execute_result",
          "data": {
            "text/plain": [
              "array([100,   2,   3,   4])"
            ]
          },
          "metadata": {},
          "execution_count": 26
        }
      ]
    },
    {
      "cell_type": "markdown",
      "source": [
        "- 다차원 배열을 복사해서 새로운 배열 생성\n",
        "- 복사된 배열을 변경시 복사된 배열을 변경되지만, 원본은 변경되지 않는다."
      ],
      "metadata": {
        "id": "mnBfz5bIRLve"
      }
    },
    {
      "cell_type": "code",
      "source": [
        "d = np.array(b)"
      ],
      "metadata": {
        "id": "JwhItlULRcTa"
      },
      "execution_count": 27,
      "outputs": []
    },
    {
      "cell_type": "code",
      "source": [
        "d[0] = 99"
      ],
      "metadata": {
        "id": "HXqDUWR2Rh4n"
      },
      "execution_count": 28,
      "outputs": []
    },
    {
      "cell_type": "code",
      "source": [
        "d"
      ],
      "metadata": {
        "colab": {
          "base_uri": "https://localhost:8080/"
        },
        "id": "KuTsv6e2RkKO",
        "outputId": "130e8404-3525-4b34-db1a-0a894867ea41"
      },
      "execution_count": 29,
      "outputs": [
        {
          "output_type": "execute_result",
          "data": {
            "text/plain": [
              "array([99,  2,  3,  4])"
            ]
          },
          "metadata": {},
          "execution_count": 29
        }
      ]
    },
    {
      "cell_type": "code",
      "source": [
        "b"
      ],
      "metadata": {
        "colab": {
          "base_uri": "https://localhost:8080/"
        },
        "id": "WwaALc79Rl1F",
        "outputId": "b91b1e59-83f7-42e5-e91d-a812a5bfe0e2"
      },
      "execution_count": 30,
      "outputs": [
        {
          "output_type": "execute_result",
          "data": {
            "text/plain": [
              "array([100,   2,   3,   4])"
            ]
          },
          "metadata": {},
          "execution_count": 30
        }
      ]
    },
    {
      "cell_type": "markdown",
      "source": [
        "- 다차원 배열을 생성시, 자료형을 지정하지 않으면 내부의 원소를 보고 자동으로 추론\n"
      ],
      "metadata": {
        "id": "5rXCTnbXTzd5"
      }
    },
    {
      "cell_type": "code",
      "source": [
        "e = np.array(l, dtype=np.float)"
      ],
      "metadata": {
        "colab": {
          "base_uri": "https://localhost:8080/"
        },
        "id": "DTrP-jZXUEQ_",
        "outputId": "1e5a82bb-d5ed-4bb4-b5e0-cedcda34b221"
      },
      "execution_count": 31,
      "outputs": [
        {
          "output_type": "stream",
          "name": "stderr",
          "text": [
            "/usr/local/lib/python3.7/dist-packages/ipykernel_launcher.py:1: DeprecationWarning: `np.float` is a deprecated alias for the builtin `float`. To silence this warning, use `float` by itself. Doing this will not modify any behavior and is safe. If you specifically wanted the numpy scalar type, use `np.float64` here.\n",
            "Deprecated in NumPy 1.20; for more details and guidance: https://numpy.org/devdocs/release/1.20.0-notes.html#deprecations\n",
            "  \"\"\"Entry point for launching an IPython kernel.\n"
          ]
        }
      ]
    },
    {
      "cell_type": "code",
      "source": [
        "e"
      ],
      "metadata": {
        "colab": {
          "base_uri": "https://localhost:8080/"
        },
        "id": "hZUA9qkTUP5Q",
        "outputId": "88e3ff99-665e-4685-ad32-6bcc207e5cef"
      },
      "execution_count": 32,
      "outputs": [
        {
          "output_type": "execute_result",
          "data": {
            "text/plain": [
              "array([1., 2., 3., 4.])"
            ]
          },
          "metadata": {},
          "execution_count": 32
        }
      ]
    },
    {
      "cell_type": "code",
      "source": [
        "e.dtype"
      ],
      "metadata": {
        "colab": {
          "base_uri": "https://localhost:8080/"
        },
        "id": "hyla-KYMUSkB",
        "outputId": "a80257c8-809c-479d-eb60-1d48266f0d3d"
      },
      "execution_count": 33,
      "outputs": [
        {
          "output_type": "execute_result",
          "data": {
            "text/plain": [
              "dtype('float64')"
            ]
          },
          "metadata": {},
          "execution_count": 33
        }
      ]
    },
    {
      "cell_type": "markdown",
      "source": [
        "- 2차원 배열\n",
        "- 두 개의 축(axis), 행(row), 열(column)\n",
        "- 행, 열의 개수 출력 -> shape 속성 -> 두 개의 원소를 가진 튜플로 반환\n",
        "- 축의 개수 -> ndim 속성"
      ],
      "metadata": {
        "id": "VMye7gJ8WXn3"
      }
    },
    {
      "cell_type": "code",
      "source": [
        "a2 = np.array([[1, 2, 3], [4, 5, 6]])"
      ],
      "metadata": {
        "id": "nR3BUe96XFHG"
      },
      "execution_count": 34,
      "outputs": []
    },
    {
      "cell_type": "code",
      "source": [
        "a2.shape"
      ],
      "metadata": {
        "colab": {
          "base_uri": "https://localhost:8080/"
        },
        "id": "0bdd5lDnbZqz",
        "outputId": "e18b918b-560f-4273-a244-ca20fc200e24"
      },
      "execution_count": 35,
      "outputs": [
        {
          "output_type": "execute_result",
          "data": {
            "text/plain": [
              "(2, 3)"
            ]
          },
          "metadata": {},
          "execution_count": 35
        }
      ]
    },
    {
      "cell_type": "code",
      "source": [
        "a2.ndim"
      ],
      "metadata": {
        "colab": {
          "base_uri": "https://localhost:8080/"
        },
        "id": "2A7evUvPbcPe",
        "outputId": "032c5586-74d3-4ae8-af70-8ed4fda4576c"
      },
      "execution_count": 36,
      "outputs": [
        {
          "output_type": "execute_result",
          "data": {
            "text/plain": [
              "2"
            ]
          },
          "metadata": {},
          "execution_count": 36
        }
      ]
    },
    {
      "cell_type": "code",
      "source": [
        "a2.dtype"
      ],
      "metadata": {
        "colab": {
          "base_uri": "https://localhost:8080/"
        },
        "id": "JJPkOnAbbfEC",
        "outputId": "c0185799-1432-4c26-b9d9-deebc489f0ba"
      },
      "execution_count": 37,
      "outputs": [
        {
          "output_type": "execute_result",
          "data": {
            "text/plain": [
              "dtype('int64')"
            ]
          },
          "metadata": {},
          "execution_count": 37
        }
      ]
    },
    {
      "cell_type": "markdown",
      "source": [
        "- 다차원 배열의 모든 원소는 동일한 길이로 구성\n",
        "- 자료가 저장될 때 바이트(byte) 단위로 구성( 1 byte = 8 bit)\n",
        "- itemsize 속성 : 크기 출력\n",
        "- size 속성 : 원소의 개수 = shape 출력의 두 속성을 곱한 값\n"
      ],
      "metadata": {
        "id": "1Z65XZv7cP9y"
      }
    },
    {
      "cell_type": "code",
      "source": [
        "a2.itemsize"
      ],
      "metadata": {
        "colab": {
          "base_uri": "https://localhost:8080/"
        },
        "id": "scihqT4dfHho",
        "outputId": "2870bf21-f9a5-48ca-854a-cb8105fa05e9"
      },
      "execution_count": 38,
      "outputs": [
        {
          "output_type": "execute_result",
          "data": {
            "text/plain": [
              "8"
            ]
          },
          "metadata": {},
          "execution_count": 38
        }
      ]
    },
    {
      "cell_type": "code",
      "source": [
        "a2.size"
      ],
      "metadata": {
        "colab": {
          "base_uri": "https://localhost:8080/"
        },
        "id": "8HsQi8_xfPfA",
        "outputId": "d54c5a88-495c-40f7-cf32-1b436b091be0"
      },
      "execution_count": 39,
      "outputs": [
        {
          "output_type": "execute_result",
          "data": {
            "text/plain": [
              "6"
            ]
          },
          "metadata": {},
          "execution_count": 39
        }
      ]
    },
    {
      "cell_type": "code",
      "source": [
        "a2.strides"
      ],
      "metadata": {
        "colab": {
          "base_uri": "https://localhost:8080/"
        },
        "id": "r4nTw3nafiJw",
        "outputId": "52b3467f-9de7-4f36-cae3-17c981aa80dc"
      },
      "execution_count": 40,
      "outputs": [
        {
          "output_type": "execute_result",
          "data": {
            "text/plain": [
              "(24, 8)"
            ]
          },
          "metadata": {},
          "execution_count": 40
        }
      ]
    },
    {
      "cell_type": "markdown",
      "source": [
        "- 다차원 배열은 데이터를 저장할 때 내무에서는 1차원으로 구성해서 관리\n",
        "- 다차원 배열을 두 개의 flatten과 ravel 메소드를 사용해서 1차원 배열로 조회 가능\n",
        "- flatten과 ravel의 결과는 서로 다름\n",
        "- 행렬을 flatten 메소드로 실행, 그 다음에 ravel메소드로 실행, 동일한 1차원 배열을 출력\n",
        "- ravel 메소드는 내부 데이터를 그래로 반환하는 뷰(view) -> 원본 배열과 동일한 정보로 처리 -> 원소를 변경하면 원본 배열의 원소도 같이 변경\n",
        "- 원소를 변경할 때 flatten 메소드를 사용해서 다른 다차원 배열을 만들어서 사용하는 것이 좋음"
      ],
      "metadata": {
        "id": "EDihh7ONhXRh"
      }
    },
    {
      "cell_type": "code",
      "source": [
        "a2"
      ],
      "metadata": {
        "colab": {
          "base_uri": "https://localhost:8080/"
        },
        "id": "15sPeVWkimrR",
        "outputId": "6a7b20fd-3de2-4e3d-dae3-cba928a565b6"
      },
      "execution_count": 41,
      "outputs": [
        {
          "output_type": "execute_result",
          "data": {
            "text/plain": [
              "array([[1, 2, 3],\n",
              "       [4, 5, 6]])"
            ]
          },
          "metadata": {},
          "execution_count": 41
        }
      ]
    },
    {
      "cell_type": "code",
      "source": [
        "a2.flatten()"
      ],
      "metadata": {
        "colab": {
          "base_uri": "https://localhost:8080/"
        },
        "id": "8PPdtIGUiqVg",
        "outputId": "0aa31ab8-a0ee-4418-8a41-097fb7db0422"
      },
      "execution_count": 42,
      "outputs": [
        {
          "output_type": "execute_result",
          "data": {
            "text/plain": [
              "array([1, 2, 3, 4, 5, 6])"
            ]
          },
          "metadata": {},
          "execution_count": 42
        }
      ]
    },
    {
      "cell_type": "code",
      "source": [
        "a2.ravel()"
      ],
      "metadata": {
        "colab": {
          "base_uri": "https://localhost:8080/"
        },
        "id": "ysS7RkJFiuft",
        "outputId": "ca414fa2-77ca-4b73-9879-c792fb81a336"
      },
      "execution_count": 43,
      "outputs": [
        {
          "output_type": "execute_result",
          "data": {
            "text/plain": [
              "array([1, 2, 3, 4, 5, 6])"
            ]
          },
          "metadata": {},
          "execution_count": 43
        }
      ]
    },
    {
      "cell_type": "code",
      "source": [
        "# example - 3 넘파이 배열 원소 조회\n",
        "a"
      ],
      "metadata": {
        "colab": {
          "base_uri": "https://localhost:8080/"
        },
        "id": "oq_7zPTW1Fh8",
        "outputId": "5cefea15-757e-4cb4-ab45-a8fa4579e9c6"
      },
      "execution_count": 44,
      "outputs": [
        {
          "output_type": "execute_result",
          "data": {
            "text/plain": [
              "array([1, 2, 3, 4])"
            ]
          },
          "metadata": {},
          "execution_count": 44
        }
      ]
    },
    {
      "cell_type": "code",
      "source": [
        "l"
      ],
      "metadata": {
        "colab": {
          "base_uri": "https://localhost:8080/"
        },
        "id": "l2-L9lJK1ORB",
        "outputId": "0b0bc5f4-3f55-493d-9dc0-b946574d6c18"
      },
      "execution_count": 45,
      "outputs": [
        {
          "output_type": "execute_result",
          "data": {
            "text/plain": [
              "[1, 2, 3, 4]"
            ]
          },
          "metadata": {},
          "execution_count": 45
        }
      ]
    },
    {
      "cell_type": "code",
      "source": [
        "a[0]"
      ],
      "metadata": {
        "colab": {
          "base_uri": "https://localhost:8080/"
        },
        "id": "gEpNQI2C1Pfo",
        "outputId": "e1a03ad0-7be2-4053-a701-c27da7595801"
      },
      "execution_count": 46,
      "outputs": [
        {
          "output_type": "execute_result",
          "data": {
            "text/plain": [
              "1"
            ]
          },
          "metadata": {},
          "execution_count": 46
        }
      ]
    },
    {
      "cell_type": "code",
      "source": [
        "l[0]"
      ],
      "metadata": {
        "colab": {
          "base_uri": "https://localhost:8080/"
        },
        "id": "iRQzdANw1ROs",
        "outputId": "eb0564bc-1b3e-402a-b194-e90c62549257"
      },
      "execution_count": 47,
      "outputs": [
        {
          "output_type": "execute_result",
          "data": {
            "text/plain": [
              "1"
            ]
          },
          "metadata": {},
          "execution_count": 47
        }
      ]
    },
    {
      "cell_type": "code",
      "source": [
        "l2 = [[1, 2, 3], [4, 5, 6]]\n",
        "l2"
      ],
      "metadata": {
        "colab": {
          "base_uri": "https://localhost:8080/"
        },
        "id": "FlyrRNZ51TyE",
        "outputId": "b4b3d32e-0308-45d8-e7b9-905bec4898dd"
      },
      "execution_count": 48,
      "outputs": [
        {
          "output_type": "execute_result",
          "data": {
            "text/plain": [
              "[[1, 2, 3], [4, 5, 6]]"
            ]
          },
          "metadata": {},
          "execution_count": 48
        }
      ]
    },
    {
      "cell_type": "code",
      "source": [
        "a2"
      ],
      "metadata": {
        "colab": {
          "base_uri": "https://localhost:8080/"
        },
        "id": "HSUj280P1bB1",
        "outputId": "3a63587a-947f-4d58-8fd8-7b55b5eef097"
      },
      "execution_count": 49,
      "outputs": [
        {
          "output_type": "execute_result",
          "data": {
            "text/plain": [
              "array([[1, 2, 3],\n",
              "       [4, 5, 6]])"
            ]
          },
          "metadata": {},
          "execution_count": 49
        }
      ]
    },
    {
      "cell_type": "markdown",
      "source": [
        "### 1.3 다차원 배열 클래스의 자료구조\n",
        "\n",
        "\n"
      ],
      "metadata": {
        "id": "YtMUHSDR25Lm"
      }
    },
    {
      "cell_type": "code",
      "source": [
        "# example - 1 넘파이 모듈의 배열 내부구조 확인\n",
        "# 리스트를 내포해서 3차원으로 만듦\n",
        "\n",
        "na = np.array([[[1, 2, 3,], [4, 5, 6]], [[1, 2, 3,], [4, 5, 6]]])\n",
        "na"
      ],
      "metadata": {
        "colab": {
          "base_uri": "https://localhost:8080/"
        },
        "id": "3v1f7a6A3VR5",
        "outputId": "b1eb5071-4a43-42fe-9633-9e4d9e2d322a"
      },
      "execution_count": 50,
      "outputs": [
        {
          "output_type": "execute_result",
          "data": {
            "text/plain": [
              "array([[[1, 2, 3],\n",
              "        [4, 5, 6]],\n",
              "\n",
              "       [[1, 2, 3],\n",
              "        [4, 5, 6]]])"
            ]
          },
          "metadata": {},
          "execution_count": 50
        }
      ]
    },
    {
      "cell_type": "code",
      "source": [
        "na.ndim"
      ],
      "metadata": {
        "colab": {
          "base_uri": "https://localhost:8080/"
        },
        "id": "amF_5aFZ4JcG",
        "outputId": "e0d99649-73aa-4d07-9735-be1c79c3ac1d"
      },
      "execution_count": 51,
      "outputs": [
        {
          "output_type": "execute_result",
          "data": {
            "text/plain": [
              "3"
            ]
          },
          "metadata": {},
          "execution_count": 51
        }
      ]
    },
    {
      "cell_type": "code",
      "source": [
        "na.shape"
      ],
      "metadata": {
        "colab": {
          "base_uri": "https://localhost:8080/"
        },
        "id": "SKS1MfBD4NBn",
        "outputId": "5498baee-736d-44ee-cbfa-3c1284a81a82"
      },
      "execution_count": 52,
      "outputs": [
        {
          "output_type": "execute_result",
          "data": {
            "text/plain": [
              "(2, 2, 3)"
            ]
          },
          "metadata": {},
          "execution_count": 52
        }
      ]
    },
    {
      "cell_type": "code",
      "source": [
        "na[0]"
      ],
      "metadata": {
        "colab": {
          "base_uri": "https://localhost:8080/"
        },
        "id": "pyLreU4X4PX4",
        "outputId": "353fdbed-879c-4f41-9edd-11544120dd04"
      },
      "execution_count": 53,
      "outputs": [
        {
          "output_type": "execute_result",
          "data": {
            "text/plain": [
              "array([[1, 2, 3],\n",
              "       [4, 5, 6]])"
            ]
          },
          "metadata": {},
          "execution_count": 53
        }
      ]
    },
    {
      "cell_type": "code",
      "source": [
        "na[0].shape"
      ],
      "metadata": {
        "colab": {
          "base_uri": "https://localhost:8080/"
        },
        "id": "NzuR1iUG4Wy_",
        "outputId": "1c28f8ba-9ad6-41bc-c15d-c5fa7c9d6358"
      },
      "execution_count": 54,
      "outputs": [
        {
          "output_type": "execute_result",
          "data": {
            "text/plain": [
              "(2, 3)"
            ]
          },
          "metadata": {},
          "execution_count": 54
        }
      ]
    },
    {
      "cell_type": "markdown",
      "source": [
        "- 여러 개의 메타 정보를 관리하는 속성을 한꺼번에 조회할 때는 __array_interface__ 스페셜 속성 사용 -> 대부분의 속성을 딕셔너리(dict)로 반환 "
      ],
      "metadata": {
        "id": "Wuk-fgYB4eOj"
      }
    },
    {
      "cell_type": "code",
      "source": [
        "na.__array_interface__"
      ],
      "metadata": {
        "colab": {
          "base_uri": "https://localhost:8080/"
        },
        "id": "ivC_PErz45Yn",
        "outputId": "b37e6ba5-33d0-4d12-9cb0-87e4d3a86cf0"
      },
      "execution_count": 55,
      "outputs": [
        {
          "output_type": "execute_result",
          "data": {
            "text/plain": [
              "{'data': (94082331182752, False),\n",
              " 'descr': [('', '<i8')],\n",
              " 'shape': (2, 2, 3),\n",
              " 'strides': None,\n",
              " 'typestr': '<i8',\n",
              " 'version': 3}"
            ]
          },
          "metadata": {},
          "execution_count": 55
        }
      ]
    },
    {
      "cell_type": "markdown",
      "source": [
        "- 이 배열의 데이터를 관리하는 data속성에 데이터를 tobytes 메소드로 확인 가능\n",
        "- 다차원 배열은 리스트로 변환 가능 tolist"
      ],
      "metadata": {
        "id": "-dHjokch5GAS"
      }
    },
    {
      "cell_type": "code",
      "source": [
        "na.__array_interface__['data'][0]"
      ],
      "metadata": {
        "colab": {
          "base_uri": "https://localhost:8080/"
        },
        "id": "s45IJJOu5YCb",
        "outputId": "c854ffcb-df42-4b3d-f81e-3332b996e3f8"
      },
      "execution_count": 56,
      "outputs": [
        {
          "output_type": "execute_result",
          "data": {
            "text/plain": [
              "94082331182752"
            ]
          },
          "metadata": {},
          "execution_count": 56
        }
      ]
    },
    {
      "cell_type": "code",
      "source": [
        "len(na.data.tobytes())"
      ],
      "metadata": {
        "colab": {
          "base_uri": "https://localhost:8080/"
        },
        "id": "kck-R0N86ASe",
        "outputId": "2031cb3e-b536-49ed-c203-76d37e16cda8"
      },
      "execution_count": 57,
      "outputs": [
        {
          "output_type": "execute_result",
          "data": {
            "text/plain": [
              "96"
            ]
          },
          "metadata": {},
          "execution_count": 57
        }
      ]
    },
    {
      "cell_type": "code",
      "source": [
        "na.data.tolist()"
      ],
      "metadata": {
        "colab": {
          "base_uri": "https://localhost:8080/"
        },
        "id": "cpBVA5iY6HvZ",
        "outputId": "e689957c-8e5c-4439-e95e-094c021a0399"
      },
      "execution_count": 58,
      "outputs": [
        {
          "output_type": "execute_result",
          "data": {
            "text/plain": [
              "[[[1, 2, 3], [4, 5, 6]], [[1, 2, 3], [4, 5, 6]]]"
            ]
          },
          "metadata": {},
          "execution_count": 58
        }
      ]
    },
    {
      "cell_type": "code",
      "source": [
        "# example - 2 data 속성 관리 기준\n",
        "a = np.array([1, 2, 3, 4])"
      ],
      "metadata": {
        "id": "OK6BgqtR6V9e"
      },
      "execution_count": 59,
      "outputs": []
    },
    {
      "cell_type": "code",
      "source": [
        "a"
      ],
      "metadata": {
        "colab": {
          "base_uri": "https://localhost:8080/"
        },
        "id": "uI_Mtnow7Dx7",
        "outputId": "6d9af72c-8272-4c48-f7b1-6b0136079642"
      },
      "execution_count": 60,
      "outputs": [
        {
          "output_type": "execute_result",
          "data": {
            "text/plain": [
              "array([1, 2, 3, 4])"
            ]
          },
          "metadata": {},
          "execution_count": 60
        }
      ]
    },
    {
      "cell_type": "code",
      "source": [
        "a.data"
      ],
      "metadata": {
        "colab": {
          "base_uri": "https://localhost:8080/"
        },
        "id": "X5ZOAYTl7FJY",
        "outputId": "30e02e14-9937-463b-9e4a-69fb6f949b9d"
      },
      "execution_count": 61,
      "outputs": [
        {
          "output_type": "execute_result",
          "data": {
            "text/plain": [
              "<memory at 0x7f99fa6457a0>"
            ]
          },
          "metadata": {},
          "execution_count": 61
        }
      ]
    },
    {
      "cell_type": "code",
      "source": [
        "# memoryview 클래스에 1차원 배열을 인라고 전달해서 메모리에 로딩하는 객체를 만들고 변수에 할당\n",
        "mem = memoryview(a)"
      ],
      "metadata": {
        "id": "x_iSd4Fr7Jpu"
      },
      "execution_count": 62,
      "outputs": []
    },
    {
      "cell_type": "code",
      "source": [
        "mem"
      ],
      "metadata": {
        "colab": {
          "base_uri": "https://localhost:8080/"
        },
        "id": "ZbvEkyjU7c3N",
        "outputId": "9daa5fdf-fd7f-475c-8e3d-6e8da73b4675"
      },
      "execution_count": 63,
      "outputs": [
        {
          "output_type": "execute_result",
          "data": {
            "text/plain": [
              "<memory at 0x7f99fa645940>"
            ]
          },
          "metadata": {},
          "execution_count": 63
        }
      ]
    },
    {
      "cell_type": "code",
      "source": [
        "# 배열의 원소들을 전부 16진수로 변환 -> hex\n",
        "a.data.hex() "
      ],
      "metadata": {
        "colab": {
          "base_uri": "https://localhost:8080/",
          "height": 35
        },
        "id": "CzQ1Hmhq8BMA",
        "outputId": "2950ec6e-6e88-41ea-84e6-3724dc0f431d"
      },
      "execution_count": 64,
      "outputs": [
        {
          "output_type": "execute_result",
          "data": {
            "text/plain": [
              "'0100000000000000020000000000000003000000000000000400000000000000'"
            ],
            "application/vnd.google.colaboratory.intrinsic+json": {
              "type": "string"
            }
          },
          "metadata": {},
          "execution_count": 64
        }
      ]
    },
    {
      "cell_type": "markdown",
      "source": [
        "- 모든 원소를 순환할 수 있는 방식 -> flat 속성 사용 -> 하나의 반속자 제공 -> 이를 순환문에 작성해서 원소를 하나씩 조회"
      ],
      "metadata": {
        "id": "rx5ewVMP-E4Q"
      }
    },
    {
      "cell_type": "code",
      "source": [
        "a.flat"
      ],
      "metadata": {
        "colab": {
          "base_uri": "https://localhost:8080/"
        },
        "id": "1_W_GHLR-om9",
        "outputId": "451b595f-12d1-4425-9983-a71f2784c1a2"
      },
      "execution_count": 65,
      "outputs": [
        {
          "output_type": "execute_result",
          "data": {
            "text/plain": [
              "<numpy.flatiter at 0x559140bab600>"
            ]
          },
          "metadata": {},
          "execution_count": 65
        }
      ]
    },
    {
      "cell_type": "code",
      "source": [
        "for i in a.flat:\n",
        "  print(i)"
      ],
      "metadata": {
        "colab": {
          "base_uri": "https://localhost:8080/"
        },
        "id": "-nk2rITT-rbQ",
        "outputId": "68f4f570-ea4e-4f38-ecbd-ac349d4ac379"
      },
      "execution_count": 66,
      "outputs": [
        {
          "output_type": "stream",
          "name": "stdout",
          "text": [
            "1\n",
            "2\n",
            "3\n",
            "4\n"
          ]
        }
      ]
    },
    {
      "cell_type": "markdown",
      "source": [
        "- 다차원 배열을 복사하지 않고 공유할 수 있음 -> frombuffer 함수에 배열을 인자로 전달해서 동일한 배열을 공유해서 사용\n",
        "- 정수를 원소로 가진 리스트를 인자로 전달하지만 자료형은 float_ 인 실수\n",
        "- 만들어진 배열의 원소를 확인하면 숫자 뒤에 점이 붙어서 실수를 표현\n",
        "- frombuffer 함수로 공유해서 새로운 변수에 할당"
      ],
      "metadata": {
        "id": "Pi-XAFtJ-1Kd"
      }
    },
    {
      "cell_type": "code",
      "source": [
        "c = np.array([1, 2, 3, 4], dtype=np.float_)"
      ],
      "metadata": {
        "id": "Z2PkuUQZAjOm"
      },
      "execution_count": 67,
      "outputs": []
    },
    {
      "cell_type": "code",
      "source": [
        "c"
      ],
      "metadata": {
        "colab": {
          "base_uri": "https://localhost:8080/"
        },
        "id": "xTcbFoCUFBsd",
        "outputId": "acb37e2b-e79e-4a91-8625-5e094e6551ab"
      },
      "execution_count": 68,
      "outputs": [
        {
          "output_type": "execute_result",
          "data": {
            "text/plain": [
              "array([1., 2., 3., 4.])"
            ]
          },
          "metadata": {},
          "execution_count": 68
        }
      ]
    },
    {
      "cell_type": "code",
      "source": [
        "x = np.frombuffer(c)"
      ],
      "metadata": {
        "id": "enGmpVnoFEVD"
      },
      "execution_count": 69,
      "outputs": []
    },
    {
      "cell_type": "code",
      "source": [
        "x"
      ],
      "metadata": {
        "colab": {
          "base_uri": "https://localhost:8080/"
        },
        "id": "nwxzKtq6FNYa",
        "outputId": "83893028-83b7-45e8-e696-171a5888886f"
      },
      "execution_count": 70,
      "outputs": [
        {
          "output_type": "execute_result",
          "data": {
            "text/plain": [
              "array([1., 2., 3., 4.])"
            ]
          },
          "metadata": {},
          "execution_count": 70
        }
      ]
    },
    {
      "cell_type": "markdown",
      "source": [
        "- 배열의 정보들을 관리하는 정보인 flags 속성"
      ],
      "metadata": {
        "id": "LuCL1oNXFkPc"
      }
    },
    {
      "cell_type": "code",
      "source": [
        "x.dtype"
      ],
      "metadata": {
        "colab": {
          "base_uri": "https://localhost:8080/"
        },
        "id": "LT0JT8sgFwtB",
        "outputId": "73c79fda-64d6-430b-96a5-53a9a9cc586e"
      },
      "execution_count": 71,
      "outputs": [
        {
          "output_type": "execute_result",
          "data": {
            "text/plain": [
              "dtype('float64')"
            ]
          },
          "metadata": {},
          "execution_count": 71
        }
      ]
    },
    {
      "cell_type": "code",
      "source": [
        "x[0]"
      ],
      "metadata": {
        "colab": {
          "base_uri": "https://localhost:8080/"
        },
        "id": "12_sr42dFy25",
        "outputId": "bfa3ebe7-c08a-447d-8ba6-5cf15717dc15"
      },
      "execution_count": 72,
      "outputs": [
        {
          "output_type": "execute_result",
          "data": {
            "text/plain": [
              "1.0"
            ]
          },
          "metadata": {},
          "execution_count": 72
        }
      ]
    },
    {
      "cell_type": "code",
      "source": [
        "x.flags"
      ],
      "metadata": {
        "colab": {
          "base_uri": "https://localhost:8080/"
        },
        "id": "OMG1-AQUF03V",
        "outputId": "7d58722d-0b59-4644-bb9b-a2ee5e313ebf"
      },
      "execution_count": 73,
      "outputs": [
        {
          "output_type": "execute_result",
          "data": {
            "text/plain": [
              "  C_CONTIGUOUS : True\n",
              "  F_CONTIGUOUS : True\n",
              "  OWNDATA : False\n",
              "  WRITEABLE : True\n",
              "  ALIGNED : True\n",
              "  WRITEBACKIFCOPY : False\n",
              "  UPDATEIFCOPY : False"
            ]
          },
          "metadata": {},
          "execution_count": 73
        }
      ]
    },
    {
      "cell_type": "markdown",
      "source": [
        "### 1.4 다차원 배열의 두 클래스 비교\n",
        "- 다차원 배열을 만드는 두 개의 클래스 ndarray와 matrix 제공\n",
        "- 행렬만을 처리하는 matrix 클래스와 다양한 차원의 배열을 처리하는 ndarray로 구분\n",
        "- 곱셈 연산자(*) : ndarray -> 요소간 곱, matrix -> 행렬곱\n",
        "\n"
      ],
      "metadata": {
        "id": "ZwLZn6m7Gz9B"
      }
    },
    {
      "cell_type": "markdown",
      "source": [
        "\n",
        "\n",
        ">예제 1 두 클래스 비교\n",
        "- 상속관계 -> __base__ 속성\n",
        "- matrix 클래스 -> ndarray 클래스를 상속하여 구현\n",
        "- 상속관계가 중요한 것은 상위 클래스의 특징들을 하위 클래스에서 반영하여 구현\n",
        "- 상위 클래스의 특징을 하면 하위 클래스에서 구현한 기능들을 예측 가능\n",
        "- 여러 차원을 처리하는 ndarray을 상속을 받아서 matrix 클래스를 정의한 것은 다양한 차원에서 2차원으로 한정해서 처리\n"
      ],
      "metadata": {
        "id": "O-9Dja-p99xd"
      }
    },
    {
      "cell_type": "code",
      "source": [
        "np.ndarray.__base__"
      ],
      "metadata": {
        "colab": {
          "base_uri": "https://localhost:8080/"
        },
        "id": "sY_aUT5O_X8h",
        "outputId": "a60cbce8-c227-4ffb-a044-90466502a7ba"
      },
      "execution_count": 74,
      "outputs": [
        {
          "output_type": "execute_result",
          "data": {
            "text/plain": [
              "object"
            ]
          },
          "metadata": {},
          "execution_count": 74
        }
      ]
    },
    {
      "cell_type": "code",
      "source": [
        "np.matrix.__base__"
      ],
      "metadata": {
        "colab": {
          "base_uri": "https://localhost:8080/"
        },
        "id": "NnXJV9NE_eml",
        "outputId": "5083bfc5-bd3f-45cd-e71b-97bedb35da18"
      },
      "execution_count": 75,
      "outputs": [
        {
          "output_type": "execute_result",
          "data": {
            "text/plain": [
              "numpy.ndarray"
            ]
          },
          "metadata": {},
          "execution_count": 75
        }
      ]
    },
    {
      "cell_type": "markdown",
      "source": [
        "\n",
        "\n",
        "> 예제 1\n",
        "- 동잏한 리스트를 인자로 전다해서 array 함수로 다차원 배열의 객체, matrix 클래스로 행렬의 객체를 만듬\n",
        "- 만들어진 두 객체의 형상을 확인하면 다차원 배열은 1차원이지만 matrix 클래스의 객체은 항상 2차원\n",
        "\n"
      ],
      "metadata": {
        "id": "nkGsb-wG_xWk"
      }
    },
    {
      "cell_type": "code",
      "source": [
        "ll = np.array([1, 2, 3, 4, 5, 6, 7, 8])"
      ],
      "metadata": {
        "id": "Kj1Ov1elAUXB"
      },
      "execution_count": 76,
      "outputs": []
    },
    {
      "cell_type": "code",
      "source": [
        "ll.shape"
      ],
      "metadata": {
        "colab": {
          "base_uri": "https://localhost:8080/"
        },
        "id": "061Bw-0cAb6B",
        "outputId": "4a25580c-6903-4bc8-b74d-8e8fc02bcc11"
      },
      "execution_count": 77,
      "outputs": [
        {
          "output_type": "execute_result",
          "data": {
            "text/plain": [
              "(8,)"
            ]
          },
          "metadata": {},
          "execution_count": 77
        }
      ]
    },
    {
      "cell_type": "code",
      "source": [
        "m1 = np.matrix([1, 2, 3, 4, 5, 6, 7, 8])"
      ],
      "metadata": {
        "id": "C2e3Xe5KAfui"
      },
      "execution_count": 78,
      "outputs": []
    },
    {
      "cell_type": "code",
      "source": [
        "m1.shape"
      ],
      "metadata": {
        "colab": {
          "base_uri": "https://localhost:8080/"
        },
        "id": "fV1SkI2tAnS_",
        "outputId": "fb9b3a6b-dd4b-4264-a4cc-eea82d02bd2d"
      },
      "execution_count": 79,
      "outputs": [
        {
          "output_type": "execute_result",
          "data": {
            "text/plain": [
              "(1, 8)"
            ]
          },
          "metadata": {},
          "execution_count": 79
        }
      ]
    },
    {
      "cell_type": "code",
      "source": [
        "l2 = ll.reshape(2, 4)"
      ],
      "metadata": {
        "id": "-yjFfWCbBfkC"
      },
      "execution_count": 80,
      "outputs": []
    },
    {
      "cell_type": "code",
      "source": [
        "l2.shape"
      ],
      "metadata": {
        "colab": {
          "base_uri": "https://localhost:8080/"
        },
        "id": "CIOor_8kBkCz",
        "outputId": "1cec997c-bb0c-45f0-891f-448cdf4c5ebb"
      },
      "execution_count": 81,
      "outputs": [
        {
          "output_type": "execute_result",
          "data": {
            "text/plain": [
              "(2, 4)"
            ]
          },
          "metadata": {},
          "execution_count": 81
        }
      ]
    },
    {
      "cell_type": "code",
      "source": [
        "m2 = m1.reshape(2, 4)"
      ],
      "metadata": {
        "id": "vu2tDaCWBng7"
      },
      "execution_count": 82,
      "outputs": []
    },
    {
      "cell_type": "code",
      "source": [
        "m2.shape"
      ],
      "metadata": {
        "colab": {
          "base_uri": "https://localhost:8080/"
        },
        "id": "dfze8xg5BttB",
        "outputId": "282c1b45-d187-46a4-8348-a4db377f29b6"
      },
      "execution_count": 83,
      "outputs": [
        {
          "output_type": "execute_result",
          "data": {
            "text/plain": [
              "(2, 4)"
            ]
          },
          "metadata": {},
          "execution_count": 83
        }
      ]
    },
    {
      "cell_type": "code",
      "source": [
        "# 3차원 형상으로 변경\n",
        "# 다차원 배열은 형상을 변경할 수 있지만 2차원만 처리하는 matrix 클래스는 예외를 발생\n",
        "# 이 클래스는 2차원인 행렬만 처리\n",
        "\n",
        "l3 = l2.reshape(2, 2, 2)"
      ],
      "metadata": {
        "id": "hGlI_HdVB8mb"
      },
      "execution_count": 84,
      "outputs": []
    },
    {
      "cell_type": "code",
      "source": [
        "try:\n",
        "  m3 = m2.reshape(2, 2, 2)\n",
        "except Exception as w:\n",
        "  print(\" 예외 \", e)"
      ],
      "metadata": {
        "colab": {
          "base_uri": "https://localhost:8080/"
        },
        "id": "OtpdjsUQCXxa",
        "outputId": "95356234-444f-4daf-befb-c344f5663f43"
      },
      "execution_count": 85,
      "outputs": [
        {
          "output_type": "stream",
          "name": "stdout",
          "text": [
            " 예외  [1. 2. 3. 4.]\n"
          ]
        }
      ]
    },
    {
      "cell_type": "code",
      "source": [
        "m2_1 = np.asmatrix(ll).reshape(2, 4)"
      ],
      "metadata": {
        "id": "1gLQJah6CwjC"
      },
      "execution_count": 86,
      "outputs": []
    },
    {
      "cell_type": "code",
      "source": [
        "m2_1"
      ],
      "metadata": {
        "id": "vB3668bbERFP",
        "outputId": "3b8b09ea-90f3-41ce-cbc5-e18ffb65ebe4",
        "colab": {
          "base_uri": "https://localhost:8080/"
        }
      },
      "execution_count": 87,
      "outputs": [
        {
          "output_type": "execute_result",
          "data": {
            "text/plain": [
              "matrix([[1, 2, 3, 4],\n",
              "        [5, 6, 7, 8]])"
            ]
          },
          "metadata": {},
          "execution_count": 87
        }
      ]
    }
  ]
}